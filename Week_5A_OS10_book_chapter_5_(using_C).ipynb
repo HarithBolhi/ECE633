{
  "nbformat": 4,
  "nbformat_minor": 0,
  "metadata": {
    "colab": {
      "provenance": [],
      "include_colab_link": true
    },
    "kernelspec": {
      "name": "python3",
      "display_name": "Python 3"
    },
    "language_info": {
      "name": "python"
    }
  },
  "cells": [
    {
      "cell_type": "markdown",
      "metadata": {
        "id": "view-in-github",
        "colab_type": "text"
      },
      "source": [
        "<a href=\"https://colab.research.google.com/github/HarithBolhi/ECE633/blob/main/Week_5A_OS10_book_chapter_5_(using_C).ipynb\" target=\"_parent\"><img src=\"https://colab.research.google.com/assets/colab-badge.svg\" alt=\"Open In Colab\"/></a>"
      ]
    },
    {
      "cell_type": "markdown",
      "source": [
        "# Week 5A\n",
        "Ir. Dr. Syahrul Afzal bin Che Abdullah\n",
        "## OS10-book chapter 5 (using C)"
      ],
      "metadata": {
        "id": "FZQuLFz9gFYD"
      }
    },
    {
      "cell_type": "markdown",
      "source": [
        "### Apparatus\n",
        "1. Welcome To Colaboratory - Colaboratory <br>\n",
        "https://colab.research.google.com/\n",
        "2. Online C Compiler, Visual Debugger, and AI Tutor - Learn C programming by visualizing code <br>\n",
        "https://pythontutor.com/c.html#mode=edit\n",
        "3. GDB online Debugger | Compiler - Code, Compile, Run, Debug online C, C++ <br>\n",
        "https://www.onlinegdb.com/ <br>\n",
        "https://www.onlinegdb.com/online_c_compiler\n"
      ],
      "metadata": {
        "id": "YLHoLioJev9_"
      }
    },
    {
      "cell_type": "markdown",
      "source": [
        "### Sourcecode\n",
        "<font color='red'>Note: There are several ways to upload a file to Google Colab, like mounting your Google Drive and execute a copy operation.</font>"
      ],
      "metadata": {
        "id": "MFD1nkQpLEmr"
      }
    },
    {
      "cell_type": "code",
      "execution_count": null,
      "metadata": {
        "colab": {
          "base_uri": "https://localhost:8080/"
        },
        "id": "-j3LLpg3kqKh",
        "outputId": "675a9b49-1189-4af1-fbc0-8a7644cb6977"
      },
      "outputs": [
        {
          "output_type": "stream",
          "name": "stdout",
          "text": [
            "Mounted at /content/gdrive\n"
          ]
        }
      ],
      "source": [
        "from google.colab import drive\n",
        "drive.mount('/content/gdrive')"
      ]
    },
    {
      "cell_type": "code",
      "source": [
        "import shutil\n",
        "gdrive_link = \"/content/gdrive/MyDrive/uitm/course/ECE633/slides/Week 5/src/ch5.zip\"\n",
        "colab_link = \"/content/\"\n",
        "shutil.copy(gdrive_link, colab_link)"
      ],
      "metadata": {
        "id": "onR2UVlJosBD",
        "colab": {
          "base_uri": "https://localhost:8080/",
          "height": 36
        },
        "outputId": "914b4bdc-1d85-4e03-a9ac-ababf9b163e2"
      },
      "execution_count": null,
      "outputs": [
        {
          "output_type": "execute_result",
          "data": {
            "text/plain": [
              "'/content/ch5.zip'"
            ],
            "application/vnd.google.colaboratory.intrinsic+json": {
              "type": "string"
            }
          },
          "metadata": {},
          "execution_count": 2
        }
      ]
    },
    {
      "cell_type": "code",
      "source": [
        "!ls"
      ],
      "metadata": {
        "colab": {
          "base_uri": "https://localhost:8080/"
        },
        "id": "13zqhLvnEpnb",
        "outputId": "af7c1e3b-6e27-43c0-c92e-7c3bb03dae33"
      },
      "execution_count": null,
      "outputs": [
        {
          "output_type": "stream",
          "name": "stdout",
          "text": [
            "ch5.zip  gdrive  sample_data\n"
          ]
        }
      ]
    },
    {
      "cell_type": "code",
      "source": [
        "!unzip ch5.zip\n"
      ],
      "metadata": {
        "colab": {
          "base_uri": "https://localhost:8080/"
        },
        "id": "JZ8bG7KHBsG5",
        "outputId": "971ef866-560f-45f7-ff14-b990ae1a8228"
      },
      "execution_count": null,
      "outputs": [
        {
          "output_type": "stream",
          "name": "stdout",
          "text": [
            "Archive:  ch5.zip\n",
            "   creating: ch5/\n",
            "  inflating: ch5/posix-rt.c          \n",
            "  inflating: ch5/posix-sched.c       \n",
            "   creating: ch5/project/\n",
            "   creating: ch5/project/java/\n",
            "  inflating: ch5/project/java/Algorithm.java  \n",
            "  inflating: ch5/project/java/book.txt  \n",
            "  inflating: ch5/project/java/CPU.java  \n",
            "  inflating: ch5/project/java/Driver.java  \n",
            "  inflating: ch5/project/java/README  \n",
            "  inflating: ch5/project/java/rr-schedule.txt  \n",
            "  inflating: ch5/project/java/run.txt  \n",
            "  inflating: ch5/project/java/schedule.txt  \n",
            "  inflating: ch5/project/java/Task.java  \n",
            "   creating: ch5/project/posix/\n",
            "  inflating: ch5/project/posix/book.txt  \n",
            "  inflating: ch5/project/posix/CPU.c  \n",
            "  inflating: ch5/project/posix/cpu.h  \n",
            "  inflating: ch5/project/posix/driver.c  \n",
            "  inflating: ch5/project/posix/list.c  \n",
            "  inflating: ch5/project/posix/list.h  \n",
            "  inflating: ch5/project/posix/Makefile  \n",
            "  inflating: ch5/project/posix/pri-schedule.txt  \n",
            "  inflating: ch5/project/posix/README  \n",
            "  inflating: ch5/project/posix/rr-schedule.txt  \n",
            "  inflating: ch5/project/posix/schedule.txt  \n",
            "  inflating: ch5/project/posix/schedulers.h  \n",
            "  inflating: ch5/project/posix/task.h  \n"
          ]
        }
      ]
    },
    {
      "cell_type": "code",
      "source": [
        "#!rm -r ch5\n",
        "%cd ch5\n"
      ],
      "metadata": {
        "id": "KdzEtploBkLM",
        "colab": {
          "base_uri": "https://localhost:8080/"
        },
        "outputId": "5b4ed590-528c-4302-f80e-122ba81a848d"
      },
      "execution_count": null,
      "outputs": [
        {
          "output_type": "stream",
          "name": "stdout",
          "text": [
            "/content/ch5\n"
          ]
        }
      ]
    },
    {
      "cell_type": "code",
      "source": [
        "!ls"
      ],
      "metadata": {
        "colab": {
          "base_uri": "https://localhost:8080/"
        },
        "id": "qpdhIl0qB2F7",
        "outputId": "c9356b29-538a-4276-901b-5532a1bd6079"
      },
      "execution_count": null,
      "outputs": [
        {
          "output_type": "stream",
          "name": "stdout",
          "text": [
            "posix-rt.c  posix-sched.c  project\n"
          ]
        }
      ]
    },
    {
      "cell_type": "markdown",
      "source": [
        "### Figure 5.10 Pthread scheduling API.\n",
        "PTHREAD SCOPE PROCESS schedules threads using PCS scheduling.<br>\n",
        "PTHREAD SCOPE SYSTEM schedules threads using SCS scheduling.<br>\n",
        "posix-sched.c."
      ],
      "metadata": {
        "id": "jHMQMFUQFAga"
      }
    },
    {
      "cell_type": "code",
      "source": [
        "!cat posix-sched.c"
      ],
      "metadata": {
        "colab": {
          "base_uri": "https://localhost:8080/"
        },
        "id": "slLmyq6g2l-l",
        "outputId": "3444849a-945f-43e0-ba54-354ae8ae18f3"
      },
      "execution_count": null,
      "outputs": [
        {
          "output_type": "stream",
          "name": "stdout",
          "text": [
            "/**\n",
            " * A simple pthread program illustrating POSIX scheduling.\n",
            " *\n",
            " * Figure 5.10\n",
            " *\n",
            " * To compile:\n",
            " *\n",
            " *\tgcc posix-sched.c -o posix-sched -lpthread\n",
            " *\n",
            " * @author Gagne, Galvin, Silberschatz\n",
            " * Operating System Concepts  - Tenth Edition\n",
            " * Copyright John Wiley & Sons - 2018.\n",
            " */\n",
            "\n",
            "#include <pthread.h>\n",
            "#include <stdio.h>\n",
            "#define NUM_THREADS 5\n",
            "\n",
            "/* the thread runs in this function */\n",
            "void *runner(void *param); \n",
            "\n",
            "int main(int argc, char *argv[])\n",
            "{\n",
            "\tint i, scope;\n",
            "\tpthread_t tid[NUM_THREADS]; \t/* the thread identifier */\n",
            "\tpthread_attr_t attr; \t\t/* set of attributes for the thread */\n",
            "\n",
            "\t/* get the default attributes */\n",
            "\tpthread_attr_init(&attr);\n",
            "\n",
            "\t/* first inquire on the current scope */\n",
            "\tif (pthread_attr_getscope(&attr,&scope) != 0)\n",
            "\t\tfprintf(stderr, \"Unable to get scheduling scope.\\n\");\n",
            "\telse {\n",
            "\t\tif (scope == PTHREAD_SCOPE_PROCESS)\n",
            "\t\t\tprintf(\"PTHREAD_SCOPE_PROCESS\\n\");\n",
            "\t\telse if (scope == PTHREAD_SCOPE_SYSTEM)\n",
            "\t\t\tprintf(\"PTHREAD_SCOPE_SYSTEM\\n\");\n",
            "\t\telse \n",
            "\t\t\tfprintf(stderr,\"Illegal scope value.\\n\");\n",
            "\t}\n",
            "\t\n",
            "\t/* set the scheduling algorithm to PCS or SCS */\n",
            "\tif (pthread_attr_setscope(&attr, PTHREAD_SCOPE_SYSTEM) != 0)\n",
            "\t\tprintf(\"unable to set scheduling policy.\\n\");\n",
            "\n",
            "\t/* create the threads */\n",
            "\tfor (i = 0; i < NUM_THREADS; i++) \n",
            "\t\tpthread_create(&tid[i],&attr,runner,NULL); \n",
            "\n",
            "\t/**\n",
            "\t * Now join on each thread\n",
            "\t */\n",
            "\tfor (i = 0; i < NUM_THREADS; i++) \n",
            "\t\tpthread_join(tid[i], NULL);\n",
            "}\n",
            "\n",
            "/**\n",
            " * The thread will begin control in this function.\n",
            " */\n",
            "void *runner(void *param) \n",
            "{\n",
            "\t/* do some work ... */\n",
            "\n",
            "\tpthread_exit(0);\n",
            "}\n",
            "\n"
          ]
        }
      ]
    },
    {
      "cell_type": "code",
      "source": [
        "!gcc posix-sched.c -o posix-sched -lpthread\n",
        "!./posix-sched"
      ],
      "metadata": {
        "id": "KQ-NAqlwkfK-",
        "colab": {
          "base_uri": "https://localhost:8080/"
        },
        "outputId": "86d0cde8-c1a0-400a-9d83-38c2c4248e36"
      },
      "execution_count": null,
      "outputs": [
        {
          "output_type": "stream",
          "name": "stdout",
          "text": [
            "PTHREAD_SCOPE_SYSTEM\n"
          ]
        }
      ]
    },
    {
      "cell_type": "markdown",
      "source": [
        "### Figure 5.25 POSIX real-time scheduling API.\n",
        "**SCHED FIFO** schedules threads according to a first-come, first-served policy using a FIFO queue. However, there is no time slicing among threads of equal priority. Therefore, the highest-priority real-time thread at the front of the FIFO queue will be granted the CPU until it terminates or blocks.<br>\n",
        "**SCHED RR** uses a round-robin policy. It is similar to SCHED FIFO\n",
        "except that it provides time slicing among threads of equal priority.<br>\n",
        "POSIX provides an additional scheduling class—**SCHED OTHER**—but its implementation is undefined and system specific; it may behave differently on different systems.<br>\n",
        "posix-rt.c."
      ],
      "metadata": {
        "id": "99ytLQu3Mgj6"
      }
    },
    {
      "cell_type": "code",
      "source": [
        "!cat posix-rt.c"
      ],
      "metadata": {
        "id": "KLnZNQP4oiP0",
        "colab": {
          "base_uri": "https://localhost:8080/"
        },
        "outputId": "a8f4fb52-6627-4c3d-d859-f51abcbf4ec9"
      },
      "execution_count": null,
      "outputs": [
        {
          "output_type": "stream",
          "name": "stdout",
          "text": [
            "/**\n",
            " * A simple pthread program illustrating RT pthread scheduling.\n",
            " *\n",
            " * Figure 5.25\n",
            " *\n",
            " * To compile:\n",
            " *\n",
            " *\tgcc posix-rt.c -o posix-rt -lpthread\n",
            " *\n",
            " * @author Gagne, Galvin, Silberschatz\n",
            " * Operating System Concepts  - Tenth Edition\n",
            " * Copyright John Wiley & Sons - 2018.\n",
            " */\n",
            "\n",
            "#include <pthread.h>\n",
            "#include <stdio.h>\n",
            "#define NUM_THREADS 5\n",
            "\n",
            "/* the thread runs in this function */\n",
            "void *runner(void *param); \n",
            "\n",
            "int main(int argc, char *argv[])\n",
            "{\n",
            "\tint i, policy;\n",
            "\tpthread_t tid[NUM_THREADS]; \t/* the thread identifier */\n",
            "\tpthread_attr_t attr; \t\t/* set of attributes for the thread */\n",
            "\n",
            "\t/* get the default attributes */\n",
            "\tpthread_attr_init(&attr);\n",
            "\n",
            "\t/* get the current scheduling policy */\n",
            "\tif (pthread_attr_getschedpolicy(&attr,&policy) != 0)\n",
            "\t\tfprintf(stderr, \"Unable to get policy.\\n\");\n",
            "\telse {\n",
            "\t\tif (policy == SCHED_OTHER)\n",
            "\t\t\tprintf(\"SCHED_OTHER\\n\");\n",
            "\t\telse if (policy == SCHED_RR)\n",
            "\t\t\tprintf(\"SCHED_OTHER\\n\");\n",
            "\t\telse if (policy == SCHED_FIFO)\n",
            "\t\t\tprintf(\"SCHED_FIFO\\n\");\n",
            "\t}\n",
            "\t\n",
            "\t/* set the scheduling policy - FIFO, RT, or OTHER */\n",
            "\tif (pthread_attr_setschedpolicy(&attr, SCHED_OTHER) != 0)\n",
            "\t\tprintf(\"unable to set scheduling policy to SCHED_OTHER \\n\");\n",
            "\n",
            "\t/* create the threads */\n",
            "\tfor (i = 0; i < NUM_THREADS; i++) \n",
            "\t\tpthread_create(&tid[i],&attr,runner,NULL); \n",
            "\n",
            "\t/**\n",
            "\t * Now join on each thread\n",
            "\t */\n",
            "\tfor (i = 0; i < NUM_THREADS; i++) \n",
            "\t\tpthread_join(tid[i], NULL);\n",
            "}\n",
            "\n",
            "/**\n",
            " * The thread will begin control in this function.\n",
            " */\n",
            "void *runner(void *param) \n",
            "{\n",
            "\t/* do some work ... */\n",
            "\n",
            "\tpthread_exit(0);\n",
            "}\n",
            "\n"
          ]
        }
      ]
    },
    {
      "cell_type": "code",
      "source": [
        "!gcc posix-rt.c -o posix-rt -lpthread\n",
        "!./posix-rt"
      ],
      "metadata": {
        "id": "RPfAyafCODes",
        "colab": {
          "base_uri": "https://localhost:8080/"
        },
        "outputId": "ad543cfb-259f-416b-cb6b-0944c97a553a"
      },
      "execution_count": null,
      "outputs": [
        {
          "output_type": "stream",
          "name": "stdout",
          "text": [
            "SCHED_OTHER\n"
          ]
        }
      ]
    }
  ]
}