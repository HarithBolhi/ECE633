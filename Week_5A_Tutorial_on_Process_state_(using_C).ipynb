{
  "cells": [
    {
      "cell_type": "markdown",
      "metadata": {
        "id": "view-in-github",
        "colab_type": "text"
      },
      "source": [
        "<a href=\"https://colab.research.google.com/github/HarithBolhi/ECE633/blob/main/Week_5A_Tutorial_on_Process_state_(using_C).ipynb\" target=\"_parent\"><img src=\"https://colab.research.google.com/assets/colab-badge.svg\" alt=\"Open In Colab\"/></a>"
      ]
    },
    {
      "cell_type": "markdown",
      "source": [
        "# Week 5A\n",
        "Ir. Dr. Syahrul Afzal bin Che Abdullah\n",
        "## Tutorial on Process State (using C)"
      ],
      "metadata": {
        "id": "FZQuLFz9gFYD"
      }
    },
    {
      "cell_type": "markdown",
      "source": [
        "### Apparatus\n",
        "1. Welcome To Colaboratory - Colaboratory <br>\n",
        "https://colab.research.google.com/\n",
        "2. Online C Compiler, Visual Debugger, and AI Tutor - Learn C programming by visualizing code <br>\n",
        "https://pythontutor.com/c.html#mode=edit\n",
        "3. GDB online Debugger | Compiler - Code, Compile, Run, Debug online C, C++ <br>\n",
        "https://www.onlinegdb.com/ <br>\n",
        "https://www.onlinegdb.com/online_c_compiler\n"
      ],
      "metadata": {
        "id": "YLHoLioJev9_"
      }
    },
    {
      "cell_type": "code",
      "source": [
        "!sudo apt install strace"
      ],
      "metadata": {
        "id": "HzsXy7vumHmy"
      },
      "execution_count": null,
      "outputs": []
    },
    {
      "cell_type": "code",
      "source": [
        "!strace ps"
      ],
      "metadata": {
        "id": "94UCvoRbl6b5"
      },
      "execution_count": null,
      "outputs": []
    },
    {
      "cell_type": "code",
      "source": [
        "!sudo apt install ltrace"
      ],
      "metadata": {
        "id": "etuwu8XOmbQq"
      },
      "execution_count": null,
      "outputs": []
    },
    {
      "cell_type": "code",
      "source": [
        "!ltrace ps"
      ],
      "metadata": {
        "id": "8NiAWGHCmUDq"
      },
      "execution_count": null,
      "outputs": []
    },
    {
      "cell_type": "code",
      "source": [
        "!sudo apt install htop"
      ],
      "metadata": {
        "colab": {
          "base_uri": "https://localhost:8080/"
        },
        "id": "-StwhvgfmnP6",
        "outputId": "44ed7779-fd30-4426-b6e7-df4a6ca05ffc"
      },
      "execution_count": null,
      "outputs": [
        {
          "output_type": "stream",
          "name": "stdout",
          "text": [
            "Reading package lists... Done\n",
            "Building dependency tree... Done\n",
            "Reading state information... Done\n",
            "The following additional packages will be installed:\n",
            "  libnl-genl-3-200\n",
            "Suggested packages:\n",
            "  lm-sensors\n",
            "The following NEW packages will be installed:\n",
            "  htop libnl-genl-3-200\n",
            "0 upgraded, 2 newly installed, 0 to remove and 45 not upgraded.\n",
            "Need to get 140 kB of archives.\n",
            "After this operation, 404 kB of additional disk space will be used.\n",
            "Get:1 http://archive.ubuntu.com/ubuntu jammy/main amd64 libnl-genl-3-200 amd64 3.5.0-0.1 [12.4 kB]\n",
            "Get:2 http://archive.ubuntu.com/ubuntu jammy/main amd64 htop amd64 3.0.5-7build2 [128 kB]\n",
            "Fetched 140 kB in 0s (586 kB/s)\n",
            "debconf: unable to initialize frontend: Dialog\n",
            "debconf: (No usable dialog-like program is installed, so the dialog based frontend cannot be used. at /usr/share/perl5/Debconf/FrontEnd/Dialog.pm line 78, <> line 2.)\n",
            "debconf: falling back to frontend: Readline\n",
            "debconf: unable to initialize frontend: Readline\n",
            "debconf: (This frontend requires a controlling tty.)\n",
            "debconf: falling back to frontend: Teletype\n",
            "dpkg-preconfigure: unable to re-open stdin: \n",
            "Selecting previously unselected package libnl-genl-3-200:amd64.\n",
            "(Reading database ... 121772 files and directories currently installed.)\n",
            "Preparing to unpack .../libnl-genl-3-200_3.5.0-0.1_amd64.deb ...\n",
            "Unpacking libnl-genl-3-200:amd64 (3.5.0-0.1) ...\n",
            "Selecting previously unselected package htop.\n",
            "Preparing to unpack .../htop_3.0.5-7build2_amd64.deb ...\n",
            "Unpacking htop (3.0.5-7build2) ...\n",
            "Setting up libnl-genl-3-200:amd64 (3.5.0-0.1) ...\n",
            "Setting up htop (3.0.5-7build2) ...\n",
            "Processing triggers for man-db (2.10.2-1) ...\n",
            "Processing triggers for hicolor-icon-theme (0.17-2) ...\n",
            "Processing triggers for libc-bin (2.35-0ubuntu3.4) ...\n",
            "/sbin/ldconfig.real: /usr/local/lib/libtbbmalloc.so.2 is not a symbolic link\n",
            "\n",
            "/sbin/ldconfig.real: /usr/local/lib/libtbbbind_2_0.so.3 is not a symbolic link\n",
            "\n",
            "/sbin/ldconfig.real: /usr/local/lib/libtbbbind.so.3 is not a symbolic link\n",
            "\n",
            "/sbin/ldconfig.real: /usr/local/lib/libtbb.so.12 is not a symbolic link\n",
            "\n",
            "/sbin/ldconfig.real: /usr/local/lib/libtbbbind_2_5.so.3 is not a symbolic link\n",
            "\n",
            "/sbin/ldconfig.real: /usr/local/lib/libtbbmalloc_proxy.so.2 is not a symbolic link\n",
            "\n"
          ]
        }
      ]
    },
    {
      "cell_type": "code",
      "source": [
        "!htop -p 1"
      ],
      "metadata": {
        "colab": {
          "base_uri": "https://localhost:8080/"
        },
        "id": "R7mh8tw4msfi",
        "outputId": "2b8c09a8-5a66-4e82-e2b5-daa727ac8865"
      },
      "execution_count": null,
      "outputs": [
        {
          "output_type": "stream",
          "name": "stdout",
          "text": [
            "\u001b[?1l\u001b>"
          ]
        }
      ]
    },
    {
      "cell_type": "code",
      "source": [
        "!ps -ef"
      ],
      "metadata": {
        "colab": {
          "base_uri": "https://localhost:8080/"
        },
        "id": "863_clG2bqcd",
        "outputId": "6636c359-3242-44b6-cc52-2ecb73c8e965"
      },
      "execution_count": null,
      "outputs": [
        {
          "output_type": "stream",
          "name": "stdout",
          "text": [
            "UID          PID    PPID  C STIME TTY          TIME CMD\n",
            "root           1       0  0 10:09 ?        00:00:00 /sbin/docker-init -- /datalab/run.sh\n",
            "root           7       1  0 10:09 ?        00:00:06 /tools/node/bin/node /datalab/web/app.js\n",
            "root          18       7  0 10:09 ?        00:00:01 /bin/bash -e /usr/local/colab/bin/oom_monitor.sh\n",
            "root          20       1  0 10:09 ?        00:00:00 /bin/bash -e /datalab/run.sh\n",
            "root          21      20  0 10:09 ?        00:00:01 /usr/colab/bin/kernel_manager_proxy --listen_por\n",
            "root          24       0  0 10:09 ?        00:00:00 tail -n +0 -F /root/.config/Google/DriveFS/Logs/\n",
            "root          63       7  0 10:09 ?        00:00:06 [python3] <defunct>\n",
            "root          64       7  0 10:09 ?        00:00:00 python3 /usr/local/bin/colab-fileshim.py\n",
            "root          82       7  0 10:09 ?        00:00:06 /usr/bin/python3 /usr/local/bin/jupyter-notebook\n",
            "root          83       7  0 10:09 ?        00:00:00 /usr/local/bin/dap_multiplexer --domain_socket_p\n",
            "root         140      82  0 10:09 ?        00:00:12 /usr/bin/python3 -m colab_kernel_launcher -f /ro\n",
            "root         190       1  0 10:09 ?        00:00:00 /usr/bin/python3 /usr/local/lib/python3.10/dist-\n",
            "root         223       7  0 10:09 ?        00:00:00 /usr/colab/bin/language_service --lsp_search_dir\n",
            "root         232     223  0 10:09 ?        00:00:13 node /datalab/web/pyright/pyright-langserver.js \n",
            "root       10104      18  0 10:49 ?        00:00:00 sleep 1\n",
            "root       10105     140  0 10:49 ?        00:00:00 ps -ef\n"
          ]
        }
      ]
    },
    {
      "cell_type": "code",
      "source": [
        "!pstree"
      ],
      "metadata": {
        "colab": {
          "base_uri": "https://localhost:8080/"
        },
        "id": "Kd6AfvRabxve",
        "outputId": "8c47e1dd-5840-4c3d-d877-e9fcb7beaa90"
      },
      "execution_count": null,
      "outputs": [
        {
          "output_type": "stream",
          "name": "stdout",
          "text": [
            "docker-init─┬─node─┬─colab-fileshim.\n",
            "            │      ├─dap_multiplexer───4*[{dap_multiplexer}]\n",
            "            │      ├─jupyter-noteboo─┬─python3─┬─pstree\n",
            "            │      │                 │         └─16*[{python3}]\n",
            "            │      │                 └─3*[{jupyter-noteboo}]\n",
            "            │      ├─language_servic─┬─node───7*[{node}]\n",
            "            │      │                 └─6*[{language_servic}]\n",
            "            │      ├─oom_monitor.sh───sleep\n",
            "            │      ├─python3\n",
            "            │      └─10*[{node}]\n",
            "            ├─python3───6*[{python3}]\n",
            "            └─run.sh───kernel_manager_───4*[{kernel_manager_}]\n"
          ]
        }
      ]
    },
    {
      "cell_type": "code",
      "source": [
        "!cat /proc/1/status"
      ],
      "metadata": {
        "colab": {
          "base_uri": "https://localhost:8080/"
        },
        "id": "BcjNc6Tdbz-N",
        "outputId": "1f2502c0-b1a8-4790-c1fe-c35e55e961c3"
      },
      "execution_count": null,
      "outputs": [
        {
          "output_type": "stream",
          "name": "stdout",
          "text": [
            "Name:\tdocker-init\n",
            "Umask:\t0022\n",
            "State:\tS (sleeping)\n",
            "Tgid:\t1\n",
            "Ngid:\t0\n",
            "Pid:\t1\n",
            "PPid:\t0\n",
            "TracerPid:\t0\n",
            "Uid:\t0\t0\t0\t0\n",
            "Gid:\t0\t0\t0\t0\n",
            "FDSize:\t64\n",
            "Groups:\t0 \n",
            "NStgid:\t1\n",
            "NSpid:\t1\n",
            "NSpgid:\t1\n",
            "NSsid:\t1\n",
            "VmPeak:\t    1076 kB\n",
            "VmSize:\t    1076 kB\n",
            "VmLck:\t       0 kB\n",
            "VmPin:\t       0 kB\n",
            "VmHWM:\t       8 kB\n",
            "VmRSS:\t       8 kB\n",
            "RssAnon:\t       8 kB\n",
            "RssFile:\t       0 kB\n",
            "RssShmem:\t       0 kB\n",
            "VmData:\t     176 kB\n",
            "VmStk:\t     136 kB\n",
            "VmExe:\t     720 kB\n",
            "VmLib:\t       8 kB\n",
            "VmPTE:\t      28 kB\n",
            "VmSwap:\t       0 kB\n",
            "HugetlbPages:\t       0 kB\n",
            "CoreDumping:\t0\n",
            "THP_enabled:\t1\n",
            "Threads:\t1\n",
            "SigQ:\t1/51889\n",
            "SigPnd:\t0000000000000000\n",
            "ShdPnd:\t0000000000000000\n",
            "SigBlk:\t0000000000000000\n",
            "SigIgn:\t0000000000300000\n",
            "SigCgt:\t0000000000000000\n",
            "CapInh:\t0000000000000000\n",
            "CapPrm:\t00000000a82c25fb\n",
            "CapEff:\t00000000a82c25fb\n",
            "CapBnd:\t00000000a82c25fb\n",
            "CapAmb:\t0000000000000000\n",
            "NoNewPrivs:\t0\n",
            "Seccomp:\t2\n",
            "Seccomp_filters:\t1\n",
            "Speculation_Store_Bypass:\tvulnerable\n",
            "SpeculationIndirectBranch:\talways enabled\n",
            "Cpus_allowed:\t3\n",
            "Cpus_allowed_list:\t0-1\n",
            "Mems_allowed:\t00000000,00000001\n",
            "Mems_allowed_list:\t0\n",
            "voluntary_ctxt_switches:\t2490\n",
            "nonvoluntary_ctxt_switches:\t250\n"
          ]
        }
      ]
    },
    {
      "cell_type": "code",
      "source": [
        "!cat /proc/1/status | grep -i 'state'"
      ],
      "metadata": {
        "colab": {
          "base_uri": "https://localhost:8080/"
        },
        "id": "nZflRtVvcT72",
        "outputId": "083ea2e0-69a5-4152-be44-74d75d61f8b7"
      },
      "execution_count": null,
      "outputs": [
        {
          "output_type": "stream",
          "name": "stdout",
          "text": [
            "State:\tS (sleeping)\n"
          ]
        }
      ]
    },
    {
      "cell_type": "code",
      "source": [
        "!cat /proc/7/status | grep -i 'state'"
      ],
      "metadata": {
        "colab": {
          "base_uri": "https://localhost:8080/"
        },
        "id": "S2NebmH5joit",
        "outputId": "e793c2d9-be35-4a72-9d2e-98d1dbb83926"
      },
      "execution_count": null,
      "outputs": [
        {
          "output_type": "stream",
          "name": "stdout",
          "text": [
            "State:\tR (running)\n"
          ]
        }
      ]
    },
    {
      "cell_type": "code",
      "source": [
        "!cat /proc/63/status | grep -i 'state'"
      ],
      "metadata": {
        "colab": {
          "base_uri": "https://localhost:8080/"
        },
        "id": "axw38R6Jjjc_",
        "outputId": "6db5ccb0-eb12-490c-f0a8-090a6682975f"
      },
      "execution_count": null,
      "outputs": [
        {
          "output_type": "stream",
          "name": "stdout",
          "text": [
            "State:\tZ (zombie)\n"
          ]
        }
      ]
    },
    {
      "cell_type": "code",
      "source": [
        "!ps -eo pid > pid_list.txt"
      ],
      "metadata": {
        "id": "t150YNTTeVfF"
      },
      "execution_count": null,
      "outputs": []
    },
    {
      "cell_type": "code",
      "source": [
        "!cat pid_list.txt"
      ],
      "metadata": {
        "colab": {
          "base_uri": "https://localhost:8080/"
        },
        "id": "EhAzNUEQqj-q",
        "outputId": "2490e199-56a8-4c62-dbba-35d9207416e4"
      },
      "execution_count": null,
      "outputs": [
        {
          "output_type": "stream",
          "name": "stdout",
          "text": [
            "    PID\n",
            "      1\n",
            "      7\n",
            "     18\n",
            "     20\n",
            "     21\n",
            "     24\n",
            "     63\n",
            "     64\n",
            "     82\n",
            "     83\n",
            "    140\n",
            "    190\n",
            "    223\n",
            "    232\n",
            "  10224\n",
            "  10225\n",
            "  10226\n"
          ]
        }
      ]
    },
    {
      "cell_type": "code",
      "source": [
        "%%writefile get_process_state.c\n",
        "#include <stdio.h>\n",
        "#include <stdlib.h>\n",
        "#include <string.h>\n",
        "\n",
        "#define COMMAND_MAX_LENGTH 100\n",
        "\n",
        "int main() {\n",
        "    FILE *file;\n",
        "    char line[COMMAND_MAX_LENGTH];\n",
        "    char command[COMMAND_MAX_LENGTH];\n",
        "\n",
        "    // Open the file containing process IDs\n",
        "    file = fopen(\"pid_list.txt\", \"r\");\n",
        "    if (file == NULL) {\n",
        "        fprintf(stderr, \"Error opening file.\\n\");\n",
        "        exit(1);\n",
        "    }\n",
        "\n",
        "    // Read each line (process ID) from the file\n",
        "    while (fgets(line, COMMAND_MAX_LENGTH, file) != NULL) {\n",
        "        int pid;\n",
        "        // Convert the line (process ID) to an integer\n",
        "        if (sscanf(line, \"%d\", &pid) != 1) {\n",
        "            fprintf(stderr, \"Error reading process ID.\\n\");\n",
        "            continue;\n",
        "        }\n",
        "\n",
        "        // Build the command string\n",
        "        snprintf(command, COMMAND_MAX_LENGTH, \"cat /proc/%d/status | grep -i 'state'\", pid);\n",
        "\n",
        "        // Execute the command\n",
        "        printf(\"Executing command for PID %d:\\n\", pid);\n",
        "        system(command);\n",
        "        printf(\"\\n\");\n",
        "    }\n",
        "\n",
        "    // Close the file\n",
        "    fclose(file);\n",
        "\n",
        "    return 0;\n",
        "}"
      ],
      "metadata": {
        "colab": {
          "base_uri": "https://localhost:8080/"
        },
        "id": "ThTw7qh4kVtM",
        "outputId": "2f12a49d-206c-46fd-b8fa-8ac4d0f77b01"
      },
      "execution_count": null,
      "outputs": [
        {
          "output_type": "stream",
          "name": "stdout",
          "text": [
            "Overwriting get_process_state.c\n"
          ]
        }
      ]
    },
    {
      "cell_type": "code",
      "source": [
        "!gcc -o get_process_state get_process_state.c -Wall\n",
        "!./get_process_state"
      ],
      "metadata": {
        "colab": {
          "base_uri": "https://localhost:8080/"
        },
        "id": "1yuqao6HkY5O",
        "outputId": "d7ebf462-f14c-450a-b7e5-b87801e1ca7c"
      },
      "execution_count": null,
      "outputs": [
        {
          "output_type": "stream",
          "name": "stdout",
          "text": [
            "Error reading process ID.\n",
            "Executing command for PID 1:\n",
            "State:\tS (sleeping)\n",
            "\n",
            "Executing command for PID 7:\n",
            "State:\tS (sleeping)\n",
            "\n",
            "Executing command for PID 18:\n",
            "State:\tS (sleeping)\n",
            "\n",
            "Executing command for PID 20:\n",
            "State:\tS (sleeping)\n",
            "\n",
            "Executing command for PID 21:\n",
            "State:\tS (sleeping)\n",
            "\n",
            "Executing command for PID 24:\n",
            "State:\tS (sleeping)\n",
            "\n",
            "Executing command for PID 63:\n",
            "State:\tZ (zombie)\n",
            "\n",
            "Executing command for PID 64:\n",
            "State:\tS (sleeping)\n",
            "\n",
            "Executing command for PID 82:\n",
            "State:\tS (sleeping)\n",
            "\n",
            "Executing command for PID 83:\n",
            "State:\tS (sleeping)\n",
            "\n",
            "Executing command for PID 140:\n",
            "State:\tS (sleeping)\n",
            "\n",
            "Executing command for PID 190:\n",
            "State:\tS (sleeping)\n",
            "\n",
            "Executing command for PID 223:\n",
            "State:\tS (sleeping)\n",
            "\n",
            "Executing command for PID 232:\n",
            "State:\tS (sleeping)\n",
            "\n",
            "Executing command for PID 10224:\n",
            "cat: /proc/10224/status: No such file or directory\n",
            "\n",
            "Executing command for PID 10225:\n",
            "cat: /proc/10225/status: No such file or directory\n",
            "\n",
            "Executing command for PID 10226:\n",
            "cat: /proc/10226/status: No such file or directory\n",
            "\n"
          ]
        }
      ]
    },
    {
      "cell_type": "code",
      "source": [
        "%%writefile get_process_state2.c\n",
        "/**\n",
        " * Figure 3.34\n",
        " */\n",
        "\n",
        "  #include <stdio.h>\n",
        "  #include <stdlib.h>\n",
        "  #include <unistd.h>\n",
        "  #include <sys/types.h>\n",
        "  #include <sys/wait.h>\n",
        "\n",
        "  #define COMMAND_MAX_LENGTH 100\n",
        "\n",
        "  int main()\n",
        "  {\n",
        "    pid_t pid, pid1;\n",
        "    char command[COMMAND_MAX_LENGTH];\n",
        "\n",
        "    /* fork a child process */\n",
        "    pid = fork();\n",
        "    if (pid < 0) {\n",
        "      /* error occurred */\n",
        "      fprintf(stderr, \"Fork Failed\");\n",
        "      return 1;\n",
        "    }\n",
        "    else if (pid == 0) { /* child process */\n",
        "      pid1 = getpid();\n",
        "      printf(\"child: pid = %d\\n\",pid); /* A */\n",
        "      printf(\"child: pid1 = %d\\n\",pid1); /* B */\n",
        "      snprintf(command, COMMAND_MAX_LENGTH, \"cat /proc/%d/status | grep -i 'state'\", pid1);\n",
        "      // Execute the command\n",
        "      printf(\"Executing command for PID %d:\\n\", pid1);\n",
        "      system(command);\n",
        "      printf(\"\\n\");\n",
        "    }\n",
        "    else { /* parent process */\n",
        "      pid1 = getpid();\n",
        "      printf(\"parent: pid = %d\\n\",pid); /* C */\n",
        "      printf(\"parent: pid1 = %d\\n\",pid1); /* D */\n",
        "      snprintf(command, COMMAND_MAX_LENGTH, \"cat /proc/%d/status | grep -i 'state'\", pid1);\n",
        "      // Execute the command\n",
        "      printf(\"Executing command for PID %d:\\n\", pid1);\n",
        "      system(command);\n",
        "      printf(\"\\n\");\n",
        "      //wait(NULL);\n",
        "    }\n",
        "\n",
        "    return 0;\n",
        "  }"
      ],
      "metadata": {
        "colab": {
          "base_uri": "https://localhost:8080/"
        },
        "id": "nBU4pTHsm9A9",
        "outputId": "4af3ffcc-70b8-4298-d971-135d1e92245b"
      },
      "execution_count": null,
      "outputs": [
        {
          "output_type": "stream",
          "name": "stdout",
          "text": [
            "Overwriting get_process_state2.c\n"
          ]
        }
      ]
    },
    {
      "cell_type": "code",
      "source": [
        "!gcc -o get_process_state2 get_process_state2.c -Wall\n",
        "!./get_process_state2"
      ],
      "metadata": {
        "colab": {
          "base_uri": "https://localhost:8080/"
        },
        "id": "ONCRve-enLwr",
        "outputId": "71d69ba7-1960-40f3-9a66-7c3198c34c3a"
      },
      "execution_count": null,
      "outputs": [
        {
          "output_type": "stream",
          "name": "stdout",
          "text": [
            "parent: pid = 17226\n",
            "parent: pid1 = 17225\n",
            "Executing command for PID 17225:\n",
            "child: pid = 0\n",
            "child: pid1 = 17226\n",
            "Executing command for PID 17226:\n",
            "State:\tS (sleeping)\n",
            "State:\tS (sleeping)\n",
            "\n",
            "\n"
          ]
        }
      ]
    }
  ],
  "metadata": {
    "deepnote_execution_queue": [],
    "deepnote_notebook_id": "e9bfaf87-0917-4cba-b343-72a132fb3a98",
    "kernelspec": {
      "display_name": "Python 3",
      "name": "python3"
    },
    "colab": {
      "provenance": [],
      "include_colab_link": true
    },
    "language_info": {
      "name": "python"
    }
  },
  "nbformat": 4,
  "nbformat_minor": 0
}