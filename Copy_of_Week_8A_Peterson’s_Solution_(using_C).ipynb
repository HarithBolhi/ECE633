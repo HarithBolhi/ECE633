{
  "nbformat": 4,
  "nbformat_minor": 0,
  "metadata": {
    "colab": {
      "provenance": [],
      "include_colab_link": true
    },
    "kernelspec": {
      "name": "python3",
      "display_name": "Python 3"
    },
    "language_info": {
      "name": "python"
    }
  },
  "cells": [
    {
      "cell_type": "markdown",
      "metadata": {
        "id": "view-in-github",
        "colab_type": "text"
      },
      "source": [
        "<a href=\"https://colab.research.google.com/github/HarithBolhi/ECE633/blob/main/Copy_of_Week_8A_Peterson%E2%80%99s_Solution_(using_C).ipynb\" target=\"_parent\"><img src=\"https://colab.research.google.com/assets/colab-badge.svg\" alt=\"Open In Colab\"/></a>"
      ]
    },
    {
      "cell_type": "markdown",
      "source": [
        "# Week 8A\n",
        "Ir. Dr. Syahrul Afzal bin Che Abdullah\n",
        "## Peterson’s Solution (using C)"
      ],
      "metadata": {
        "id": "FZQuLFz9gFYD"
      }
    },
    {
      "cell_type": "markdown",
      "source": [
        "### Apparatus\n",
        "1. Welcome To Colaboratory - Colaboratory <br>\n",
        "https://colab.research.google.com/\n",
        "2. Online C Compiler, Visual Debugger, and AI Tutor - Learn C programming by visualizing code <br>\n",
        "https://pythontutor.com/c.html#mode=edit\n",
        "3. GDB online Debugger | Compiler - Code, Compile, Run, Debug online C, C++ <br>\n",
        "https://www.onlinegdb.com/ <br>\n",
        "https://www.onlinegdb.com/online_c_compiler\n"
      ],
      "metadata": {
        "id": "YLHoLioJev9_"
      }
    },
    {
      "cell_type": "markdown",
      "source": [
        "### Sourcecode\n",
        "<font color='red'>Note: There are several ways to upload a file to Google Colab, like mounting your Google Drive and execute a copy operation.</font>"
      ],
      "metadata": {
        "id": "MFD1nkQpLEmr"
      }
    },
    {
      "cell_type": "markdown",
      "source": [
        "### Peterson’s Solution\n",
        "The source code is taken from https://gist.github.com/pedrominicz/ce45ee016ac067701e54b72fd03f1888\n",
        "and modified accordingly. <br>\n",
        "Function `void die(const char *fmt, ...);` inside the original code which is taken from https://git.suckless.org/dwm/file/util.c.html is deleted. <br>\n",
        "Import `util.h` to include function `void die(const char *fmt, ...);` accordingly."
      ],
      "metadata": {
        "id": "jHMQMFUQFAga"
      }
    },
    {
      "cell_type": "code",
      "source": [
        "%%writefile util.h\n",
        "#ifndef UTIL_H\n",
        "#define UTIL_H\n",
        "/* See LICENSE file for copyright and license details. */\n",
        "\n",
        "#define MAX(A, B)               ((A) > (B) ? (A) : (B))\n",
        "#define MIN(A, B)               ((A) < (B) ? (A) : (B))\n",
        "#define BETWEEN(X, A, B)        ((A) <= (X) && (X) <= (B))\n",
        "\n",
        "void die(const char *fmt, ...);\n",
        "void *ecalloc(size_t nmemb, size_t size);\n",
        "\n",
        "#endif"
      ],
      "metadata": {
        "colab": {
          "base_uri": "https://localhost:8080/"
        },
        "id": "wExohWAyk_Kg",
        "outputId": "dbd23919-8855-4a81-d2da-9c72167c5692"
      },
      "execution_count": null,
      "outputs": [
        {
          "output_type": "stream",
          "name": "stdout",
          "text": [
            "Writing util.h\n"
          ]
        }
      ]
    },
    {
      "cell_type": "code",
      "source": [
        "%%writefile util.c\n",
        "/* See LICENSE file for copyright and license details. */\n",
        " #include <stdarg.h>\n",
        " #include <stdio.h>\n",
        " #include <stdlib.h>\n",
        " #include <string.h>\n",
        "\n",
        " #include \"util.h\"\n",
        "\n",
        " void\n",
        " die(const char *fmt, ...)\n",
        " {\n",
        " \tva_list ap;\n",
        "\n",
        " \tva_start(ap, fmt);\n",
        " \tvfprintf(stderr, fmt, ap);\n",
        " \tva_end(ap);\n",
        "\n",
        " \tif (fmt[0] && fmt[strlen(fmt)-1] == ':') {\n",
        " \t\tfputc(' ', stderr);\n",
        " \t\tperror(NULL);\n",
        " \t} else {\n",
        " \t\tfputc('\\n', stderr);\n",
        " \t}\n",
        "\n",
        " \texit(1);\n",
        " }\n",
        "\n",
        " void *\n",
        " ecalloc(size_t nmemb, size_t size)\n",
        " {\n",
        " \tvoid *p;\n",
        "\n",
        " \tif (!(p = calloc(nmemb, size)))\n",
        " \t\tdie(\"calloc:\");\n",
        " \treturn p;\n",
        " }"
      ],
      "metadata": {
        "colab": {
          "base_uri": "https://localhost:8080/"
        },
        "id": "RIfp9_XNkt-j",
        "outputId": "62af1ff6-a0ed-464c-a0fb-20891f1fafe7"
      },
      "execution_count": null,
      "outputs": [
        {
          "output_type": "stream",
          "name": "stdout",
          "text": [
            "Writing util.c\n"
          ]
        }
      ]
    },
    {
      "cell_type": "code",
      "source": [
        "!gcc -o util.o -c util.c -Wall"
      ],
      "metadata": {
        "id": "VTq-R_wumcCv"
      },
      "execution_count": null,
      "outputs": []
    },
    {
      "cell_type": "code",
      "source": [
        "%%writefile peterson.c\n",
        "#include <pthread.h>\n",
        "#include <unistd.h>\n",
        "\n",
        "#include <stdarg.h>\n",
        "#include <stdio.h>\n",
        "#include <stdlib.h>\n",
        "#include <string.h>\n",
        "#include <stdbool.h>\n",
        "\n",
        "#include \"util.h\"\n",
        "\n",
        "// This program illustrates the use of Peterson's algorithm to synchronize\n",
        "// multiple threads.\n",
        "// Two new threads are created and alternate writing to the standard output.\n",
        "//\n",
        "// The key difference between Peterson's algorithm and strict alternation is\n",
        "// the inclusion of flags indicating whether a thread is ready to enter the\n",
        "// critical section.\n",
        "\n",
        "// The `turn` variable indicates which thread should enter the critical\n",
        "// section. Unlike strict alternation, the `turn` variable is set _before_\n",
        "// entering the critical section.\n",
        "//\n",
        "// Note that globally-scoped variables are initialized to zero.\n",
        "int turn;\n",
        "//bool flag[2];\n",
        "bool flag[2] = {false, false};\n",
        "const int i = 0;\n",
        "const int j = 1;\n",
        "\n",
        "void* Pi(void* arg) {\n",
        "  while(true) {\n",
        "    // Signal that this thread wants to enter the critical section.\n",
        "    flag[i] = true;\n",
        "    puts(\"i want to enter critical section\");\n",
        "    // Signal to the other thread that it is their turn.\n",
        "    turn = j;\n",
        "    puts(\"j can go first\");\n",
        "    while(flag[j] && turn == j);\n",
        "    puts(\">> i is in a critical section\");\n",
        "    flag[i] = false;\n",
        "    puts(\">> i is in the remainder section\");\n",
        "    sleep(1);\n",
        "  }\n",
        "}\n",
        "\n",
        "void* Pj(void* arg) {\n",
        "  while(true) {\n",
        "    flag[j] = true;\n",
        "    puts(\"j want to enter critical section\");\n",
        "    turn = i;\n",
        "    puts(\"i can go first\");\n",
        "    while(flag[i] && turn == i);\n",
        "    puts(\">> j is in a critical section\");\n",
        "    flag[j] = false;\n",
        "    puts(\">> j is in the remainder section\");\n",
        "    sleep(1);\n",
        "  }\n",
        "}\n",
        "\n",
        "int main(void) {\n",
        "  // A POSIX thread has two main components: an object of type `pthread_t`\n",
        "  // which represents the thread and a function pointer of type\n",
        "  // `void* (*)(void*)` which will be the entry point of the thread.\n",
        "  pthread_t t0, t1;\n",
        "\n",
        "  // Creates new threads. The second argument is a pointer to a\n",
        "  // `pthread_attr_t`, if `NULL` the thread is created with default attributes.\n",
        "  // The last argument is the argument that is given to the thread's entry\n",
        "  // point function, unused in this example.\n",
        "  if(pthread_create(&t0, NULL, Pi, NULL)) die(\"unable to create thread\");\n",
        "  if(pthread_create(&t1, NULL, Pj, NULL)) die(\"unable to create thread\");\n",
        "\n",
        "  // Yes, I could have just created one thread.\n",
        "  while(1);\n",
        "}"
      ],
      "metadata": {
        "colab": {
          "base_uri": "https://localhost:8080/"
        },
        "id": "wMTG6v0U-4Uu",
        "outputId": "ef9c2430-a994-4073-ff18-a4947b40ff54"
      },
      "execution_count": null,
      "outputs": [
        {
          "output_type": "stream",
          "name": "stdout",
          "text": [
            "Writing peterson.c\n"
          ]
        }
      ]
    },
    {
      "cell_type": "code",
      "source": [
        "!gcc -o peterson.out util.o peterson.c -lpthread -Wall\n",
        "!./peterson.out"
      ],
      "metadata": {
        "id": "TbPkf8zrBJ48",
        "colab": {
          "base_uri": "https://localhost:8080/"
        },
        "outputId": "5de10e98-0295-4258-d883-699464ec1e89"
      },
      "execution_count": null,
      "outputs": [
        {
          "output_type": "stream",
          "name": "stdout",
          "text": [
            "j want to enter critical section\n",
            "i can go first\n",
            ">> j is in a critical section\n",
            ">> j is in the remainder section\n",
            "i want to enter critical section\n",
            "j can go first\n",
            ">> i is in a critical section\n",
            ">> i is in the remainder section\n",
            "j want to enter critical section\n",
            "i can go first\n",
            ">> j is in a critical section\n",
            ">> j is in the remainder section\n",
            "i want to enter critical section\n",
            "j can go first\n",
            ">> i is in a critical section\n",
            ">> i is in the remainder section\n",
            "^C\n"
          ]
        }
      ]
    },
    {
      "cell_type": "markdown",
      "source": [
        "### OSTEP intro (using C)\n",
        "Revisiting [Week 2B OSTEP intro (using C).ipynb](https://colab.research.google.com/drive/1PhLTiZ2l54DgF8dHfGj-UErlLwp2YBgj)"
      ],
      "metadata": {
        "id": "nGpmN9Yf4T4W"
      }
    },
    {
      "cell_type": "code",
      "source": [
        "from google.colab import drive\n",
        "drive.mount('/content/gdrive')"
      ],
      "metadata": {
        "colab": {
          "base_uri": "https://localhost:8080/"
        },
        "id": "OSD1JFZv4vTJ",
        "outputId": "074314c6-951d-4c4c-de5f-8899121a0002"
      },
      "execution_count": null,
      "outputs": [
        {
          "output_type": "stream",
          "name": "stdout",
          "text": [
            "Mounted at /content/gdrive\n"
          ]
        }
      ]
    },
    {
      "cell_type": "code",
      "source": [
        "import shutil\n",
        "gdrive_link = \"/content/gdrive/MyDrive/uitm/course/ECE633/slides/Week 2/src/intro.zip\"\n",
        "colab_link = \"/content/\"\n",
        "shutil.copy(gdrive_link, colab_link)"
      ],
      "metadata": {
        "colab": {
          "base_uri": "https://localhost:8080/",
          "height": 36
        },
        "id": "uxpCXb39405f",
        "outputId": "230db4b8-2518-4056-ad65-522a77e73b04"
      },
      "execution_count": null,
      "outputs": [
        {
          "output_type": "execute_result",
          "data": {
            "text/plain": [
              "'/content/intro.zip'"
            ],
            "application/vnd.google.colaboratory.intrinsic+json": {
              "type": "string"
            }
          },
          "metadata": {},
          "execution_count": 7
        }
      ]
    },
    {
      "cell_type": "code",
      "source": [
        "!unzip intro.zip"
      ],
      "metadata": {
        "colab": {
          "base_uri": "https://localhost:8080/"
        },
        "id": "QmAuJ_rb46dR",
        "outputId": "5f5d201f-4d8a-4ab0-f39f-ebed1d047f57"
      },
      "execution_count": null,
      "outputs": [
        {
          "output_type": "stream",
          "name": "stdout",
          "text": [
            "Archive:  intro.zip\n",
            "   creating: intro/\n",
            "  inflating: intro/common.h          \n",
            "  inflating: intro/common_threads.h  \n",
            "  inflating: intro/cpu.c             \n",
            "  inflating: intro/io.c              \n",
            "  inflating: intro/Makefile          \n",
            "  inflating: intro/mem.c             \n",
            "  inflating: intro/README.md         \n",
            "  inflating: intro/threads.c         \n"
          ]
        }
      ]
    },
    {
      "cell_type": "code",
      "source": [
        "%cd intro"
      ],
      "metadata": {
        "colab": {
          "base_uri": "https://localhost:8080/"
        },
        "id": "r8CXKOYo49l6",
        "outputId": "8c2bf821-affa-4222-9dbb-4e23b0962a38"
      },
      "execution_count": null,
      "outputs": [
        {
          "output_type": "stream",
          "name": "stdout",
          "text": [
            "/content/intro\n"
          ]
        }
      ]
    },
    {
      "cell_type": "code",
      "source": [
        "!make threads"
      ],
      "metadata": {
        "colab": {
          "base_uri": "https://localhost:8080/"
        },
        "id": "Z0BchJiz5CL0",
        "outputId": "a9dbd4af-f045-4da9-b9d8-9d8469a9404a"
      },
      "execution_count": null,
      "outputs": [
        {
          "output_type": "stream",
          "name": "stdout",
          "text": [
            "gcc -o threads threads.c -Wall -pthread\n"
          ]
        }
      ]
    },
    {
      "cell_type": "markdown",
      "source": [
        "### 2.3 Concurrency\n",
        "!./threads 1000 <br>\n",
        "!./threads 1000000000 <br>"
      ],
      "metadata": {
        "id": "LUpC3Nck56iy"
      }
    },
    {
      "cell_type": "code",
      "source": [
        "!cat common_threads.h"
      ],
      "metadata": {
        "colab": {
          "base_uri": "https://localhost:8080/"
        },
        "id": "mRl1fmba9vZ5",
        "outputId": "603b7aae-ad5a-4e57-d98f-adfe049548a4"
      },
      "execution_count": null,
      "outputs": [
        {
          "output_type": "stream",
          "name": "stdout",
          "text": [
            "#ifndef __common_threads_h__\n",
            "#define __common_threads_h__\n",
            "\n",
            "#include <pthread.h>\n",
            "#include <assert.h>\n",
            "#include <sched.h>\n",
            "\n",
            "#ifdef __linux__\n",
            "#include <semaphore.h>\n",
            "#endif\n",
            "\n",
            "#define Pthread_create(thread, attr, start_routine, arg) assert(pthread_create(thread, attr, start_routine, arg) == 0);\n",
            "#define Pthread_join(thread, value_ptr)                  assert(pthread_join(thread, value_ptr) == 0);\n",
            "\n",
            "#define Pthread_mutex_lock(m)                            assert(pthread_mutex_lock(m) == 0);\n",
            "#define Pthread_mutex_unlock(m)                          assert(pthread_mutex_unlock(m) == 0);\n",
            "#define Pthread_cond_signal(cond)                        assert(pthread_cond_signal(cond) == 0);\n",
            "#define Pthread_cond_wait(cond, mutex)                   assert(pthread_cond_wait(cond, mutex) == 0);\n",
            "\n",
            "#define Mutex_init(m)                                    assert(pthread_mutex_init(m, NULL) == 0);\n",
            "#define Mutex_lock(m)                                    assert(pthread_mutex_lock(m) == 0);\n",
            "#define Mutex_unlock(m)                                  assert(pthread_mutex_unlock(m) == 0);\n",
            "#define Cond_init(cond)                                  assert(pthread_cond_init(cond, NULL) == 0);\n",
            "#define Cond_signal(cond)                                assert(pthread_cond_signal(cond) == 0);\n",
            "#define Cond_wait(cond, mutex)                           assert(pthread_cond_wait(cond, mutex) == 0);\n",
            "\n",
            "#ifdef __linux__\n",
            "#define Sem_init(sem, value)                             assert(sem_init(sem, 0, value) == 0);\n",
            "#define Sem_wait(sem)                                    assert(sem_wait(sem) == 0);\n",
            "#define Sem_post(sem)                                    assert(sem_post(sem) == 0);\n",
            "#endif // __linux__\n",
            "\n",
            "#endif // __common_threads_h__\n"
          ]
        }
      ]
    },
    {
      "cell_type": "code",
      "source": [
        "!cat threads.c"
      ],
      "metadata": {
        "colab": {
          "base_uri": "https://localhost:8080/"
        },
        "id": "FBJEl9MX5NjG",
        "outputId": "59fd5863-ea50-4fcb-f0fc-ddca85440633"
      },
      "execution_count": null,
      "outputs": [
        {
          "output_type": "stream",
          "name": "stdout",
          "text": [
            "#include <stdio.h>\n",
            "#include <stdlib.h>\n",
            "#include \"common.h\"\n",
            "#include \"common_threads.h\"\n",
            "\n",
            "volatile int counter = 0; \n",
            "int loops;\n",
            "\n",
            "void *worker(void *arg) {\n",
            "    int i;\n",
            "    for (i = 0; i < loops; i++) {\n",
            "\tcounter++;\n",
            "    }\n",
            "    return NULL;\n",
            "}\n",
            "\n",
            "int main(int argc, char *argv[]) {\n",
            "    if (argc != 2) { \n",
            "\tfprintf(stderr, \"usage: threads <loops>\\n\"); \n",
            "\texit(1); \n",
            "    } \n",
            "    loops = atoi(argv[1]);\n",
            "    pthread_t p1, p2;\n",
            "    printf(\"Initial value : %d\\n\", counter);\n",
            "    Pthread_create(&p1, NULL, worker, NULL); \n",
            "    Pthread_create(&p2, NULL, worker, NULL);\n",
            "    Pthread_join(p1, NULL);\n",
            "    Pthread_join(p2, NULL);\n",
            "    printf(\"Final value   : %d\\n\", counter);\n",
            "    return 0;\n",
            "}\n",
            "\n"
          ]
        }
      ]
    },
    {
      "cell_type": "code",
      "source": [
        "!./threads 1000"
      ],
      "metadata": {
        "colab": {
          "base_uri": "https://localhost:8080/"
        },
        "id": "ZdtCb8Vp5Q5q",
        "outputId": "1b33317f-cfef-43a9-e364-641daa95df5f"
      },
      "execution_count": null,
      "outputs": [
        {
          "output_type": "stream",
          "name": "stdout",
          "text": [
            "Initial value : 0\n",
            "Final value   : 2000\n"
          ]
        }
      ]
    },
    {
      "cell_type": "markdown",
      "source": [
        "<font color='red'>Note: The INT_MAX\tMaximum value for a variable of type int is\t2147483647.<br>\n",
        "1000000000 x 2 = 2000000000, and it is lower than the INT_MAX!.</font>"
      ],
      "metadata": {
        "id": "T9lzu-j95S2A"
      }
    },
    {
      "cell_type": "code",
      "source": [
        "%%writefile test_INT_MAX_limits.c\n",
        "#include <limits.h>\n",
        "#include <stdio.h>\n",
        "\n",
        "int main() {\n",
        "    printf(\"Maximum value for signed int: %d\\n\", INT_MAX);\n",
        "    printf(\"Maximum value for unsigned int: %u\\n\", UINT_MAX);\n",
        "    return 0;\n",
        "}"
      ],
      "metadata": {
        "colab": {
          "base_uri": "https://localhost:8080/"
        },
        "id": "aQpiPtFwG5r2",
        "outputId": "5a1faf52-ee7b-40b6-bfaf-6fad25d83d15"
      },
      "execution_count": null,
      "outputs": [
        {
          "output_type": "stream",
          "name": "stdout",
          "text": [
            "Writing test_INT_MAX_limits.c\n"
          ]
        }
      ]
    },
    {
      "cell_type": "code",
      "source": [
        "!gcc -o test_INT_MAX_limits test_INT_MAX_limits.c -Wall\n",
        "!./test_INT_MAX_limits"
      ],
      "metadata": {
        "colab": {
          "base_uri": "https://localhost:8080/"
        },
        "id": "uBaeFjcfHHoo",
        "outputId": "05577671-b970-4235-d54c-cede22702520"
      },
      "execution_count": null,
      "outputs": [
        {
          "output_type": "stream",
          "name": "stdout",
          "text": [
            "Maximum value for signed int: 2147483647\n",
            "Maximum value for unsigned int: 4294967295\n"
          ]
        }
      ]
    },
    {
      "cell_type": "code",
      "source": [
        "!./threads 1000000000"
      ],
      "metadata": {
        "colab": {
          "base_uri": "https://localhost:8080/"
        },
        "id": "3P2e-3Fr5VAT",
        "outputId": "fa9df035-9018-4eb5-a80b-1e99c4bf88ca"
      },
      "execution_count": null,
      "outputs": [
        {
          "output_type": "stream",
          "name": "stdout",
          "text": [
            "Initial value : 0\n",
            "Final value   : 1675249920\n"
          ]
        }
      ]
    },
    {
      "cell_type": "code",
      "source": [
        "!objdump -d threads"
      ],
      "metadata": {
        "id": "peh_ZHCo_wBa"
      },
      "execution_count": null,
      "outputs": []
    },
    {
      "cell_type": "markdown",
      "source": [
        "Snippet of assembly-language instructions\n",
        "```\n",
        "    1354:\t8b 05 d2 2c 00 00    \tmov    0x2cd2(%rip),%eax        # 402c <counter>\n",
        "    135a:\t83 c0 01             \tadd    $0x1,%eax\n",
        "    135d:\t89 05 c9 2c 00 00    \tmov    %eax,0x2cc9(%rip)        # 402c <counter>\n",
        "```"
      ],
      "metadata": {
        "id": "8FXFVKRUAf0Z"
      }
    },
    {
      "cell_type": "markdown",
      "source": [
        "[taskset(1) — Linux manual page](https://man7.org/linux/man-pages/man1/taskset.1.html)"
      ],
      "metadata": {
        "id": "oUOu6FeC_SBk"
      }
    },
    {
      "cell_type": "code",
      "source": [
        "!taskset -c 0 ./threads 1000000000"
      ],
      "metadata": {
        "colab": {
          "base_uri": "https://localhost:8080/"
        },
        "id": "iujOKBRz6Y0S",
        "outputId": "718f6591-fea8-4859-f748-dce91320fc9d"
      },
      "execution_count": null,
      "outputs": [
        {
          "output_type": "stream",
          "name": "stdout",
          "text": [
            "Initial value : 0\n",
            "Final value   : 1932041811\n"
          ]
        }
      ]
    },
    {
      "cell_type": "code",
      "source": [
        "%%writefile peterson_mod.c\n",
        "#include <pthread.h>\n",
        "#include <unistd.h>\n",
        "\n",
        "#include <stdarg.h>\n",
        "#include <stdio.h>\n",
        "#include <stdlib.h>\n",
        "#include <string.h>\n",
        "#include <stdbool.h>\n",
        "\n",
        "//#include \"util.h\"\n",
        "#include \"common_threads.h\"\n",
        "\n",
        "int turn;\n",
        "bool flag[2] = {false, false};\n",
        "const int i = 0;\n",
        "const int j = 1;\n",
        "bool runOnce = false;\n",
        "volatile int counter = 0;\n",
        "int loops;\n",
        "\n",
        "void *worker(void *arg) {\n",
        "    int k;\n",
        "    for (k = 0; k < loops; k++) {\n",
        "\t    counter++;\n",
        "    }\n",
        "    return NULL;\n",
        "}\n",
        "\n",
        "void* Pi(void* arg) {\n",
        "  while(!runOnce) {\n",
        "    flag[i] = true;\n",
        "    turn = j;\n",
        "    while(flag[j] && turn == j);\n",
        "    worker(NULL); //critical section\n",
        "    flag[i] = false;\n",
        "    sleep(1);\n",
        "    runOnce = true;\n",
        "  }\n",
        "  return NULL;\n",
        "}\n",
        "\n",
        "void* Pj(void* arg) {\n",
        "  while(!runOnce) {\n",
        "    flag[j] = true;\n",
        "    turn = i;\n",
        "    while(flag[i] && turn == i);\n",
        "    worker(NULL); //critical section\n",
        "    flag[j] = false;\n",
        "    sleep(1);\n",
        "    runOnce = true;\n",
        "  }\n",
        "  return NULL;\n",
        "}\n",
        "\n",
        "int main(int argc, char *argv[]) {\n",
        "    if (argc != 2) {\n",
        "\t    fprintf(stderr, \"usage: threads <loops>\\n\");\n",
        "\t    exit(1);\n",
        "    }\n",
        "    loops = atoi(argv[1]);\n",
        "    pthread_t p1, p2;\n",
        "    printf(\"Initial value : %d\\n\", counter);\n",
        "    Pthread_create(&p1, NULL, Pi, NULL);\n",
        "    Pthread_create(&p2, NULL, Pj, NULL);\n",
        "    sleep(1);\n",
        "    Pthread_join(p1, NULL);\n",
        "    Pthread_join(p2, NULL);\n",
        "    printf(\"Final value   : %d\\n\", counter);\n",
        "    return 0;\n",
        "}"
      ],
      "metadata": {
        "colab": {
          "base_uri": "https://localhost:8080/"
        },
        "id": "yKV1eHNI6wcp",
        "outputId": "aabcd2a0-c949-415d-bb4c-3e96ede51bea"
      },
      "execution_count": null,
      "outputs": [
        {
          "output_type": "stream",
          "name": "stdout",
          "text": [
            "Writing peterson_mod.c\n"
          ]
        }
      ]
    },
    {
      "cell_type": "code",
      "source": [
        "!gcc -o peterson_mod peterson_mod.c -lpthread -Wall\n",
        "!taskset -c 0 ./peterson_mod 1000000000"
      ],
      "metadata": {
        "colab": {
          "base_uri": "https://localhost:8080/"
        },
        "id": "EegYoxUP7XF5",
        "outputId": "aaa328b6-7282-42a2-c867-8d60f1a7b1fd"
      },
      "execution_count": null,
      "outputs": [
        {
          "output_type": "stream",
          "name": "stdout",
          "text": [
            "Initial value : 0\n",
            "Final value   : 2000000000\n"
          ]
        }
      ]
    },
    {
      "cell_type": "markdown",
      "source": [
        "Another approach that we will learn later on.\n",
        "\n"
      ],
      "metadata": {
        "id": "z3QsumsFCDPU"
      }
    },
    {
      "cell_type": "code",
      "source": [
        "%%writefile threads_mod.c\n",
        "#include <stdio.h>\n",
        "#include <stdlib.h>\n",
        "#include \"common.h\"\n",
        "#include \"common_threads.h\"\n",
        "\n",
        "volatile int counter = 0;\n",
        "int loops;\n",
        "pthread_mutex_t counter_mutex = PTHREAD_MUTEX_INITIALIZER; // Mutex for counter\n",
        "\n",
        "void *worker(void *arg) {\n",
        "    int i;\n",
        "    for (i = 0; i < loops; i++) {\n",
        "      Pthread_mutex_lock(&counter_mutex);\n",
        "\t    counter++;\n",
        "      Pthread_mutex_unlock(&counter_mutex);\n",
        "    }\n",
        "    return NULL;\n",
        "}\n",
        "\n",
        "int main(int argc, char *argv[]) {\n",
        "    if (argc != 2) {\n",
        "\t    fprintf(stderr, \"usage: threads <loops>\\n\");\n",
        "\t    exit(1);\n",
        "    }\n",
        "    loops = atoi(argv[1]);\n",
        "    pthread_t p1, p2;\n",
        "    printf(\"Initial value : %d\\n\", counter);\n",
        "    Pthread_create(&p1, NULL, worker, NULL);\n",
        "    Pthread_create(&p2, NULL, worker, NULL);\n",
        "    Pthread_join(p1, NULL);\n",
        "    Pthread_join(p2, NULL);\n",
        "    printf(\"Final value   : %d\\n\", counter);\n",
        "    return 0;\n",
        "}"
      ],
      "metadata": {
        "colab": {
          "base_uri": "https://localhost:8080/"
        },
        "id": "3UBJAqhI6ScN",
        "outputId": "0fb65223-e4ad-4e93-c4ae-e4bb0bb09fe3"
      },
      "execution_count": null,
      "outputs": [
        {
          "output_type": "stream",
          "name": "stdout",
          "text": [
            "Writing threads_mod.c\n"
          ]
        }
      ]
    },
    {
      "cell_type": "code",
      "source": [
        "!gcc -o threads_mod threads_mod.c -lpthread -Wall\n",
        "!taskset -c 0 ./threads_mod 1000000000"
      ],
      "metadata": {
        "colab": {
          "base_uri": "https://localhost:8080/"
        },
        "id": "ALNWTn236Tov",
        "outputId": "5675634e-03e5-4d63-9077-dff4b518b8be"
      },
      "execution_count": null,
      "outputs": [
        {
          "output_type": "stream",
          "name": "stdout",
          "text": [
            "Initial value : 0\n",
            "Final value   : 2000000000\n"
          ]
        }
      ]
    }
  ]
}