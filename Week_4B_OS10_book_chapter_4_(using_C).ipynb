{
  "nbformat": 4,
  "nbformat_minor": 0,
  "metadata": {
    "colab": {
      "provenance": [],
      "include_colab_link": true
    },
    "kernelspec": {
      "name": "python3",
      "display_name": "Python 3"
    },
    "language_info": {
      "name": "python"
    }
  },
  "cells": [
    {
      "cell_type": "markdown",
      "metadata": {
        "id": "view-in-github",
        "colab_type": "text"
      },
      "source": [
        "<a href=\"https://colab.research.google.com/github/HarithBolhi/ECE633/blob/main/Week_4B_OS10_book_chapter_4_(using_C).ipynb\" target=\"_parent\"><img src=\"https://colab.research.google.com/assets/colab-badge.svg\" alt=\"Open In Colab\"/></a>"
      ]
    },
    {
      "cell_type": "markdown",
      "source": [
        "# Week 4B\n",
        "Ir. Dr. Syahrul Afzal bin Che Abdullah\n",
        "## OS10-book chapter 4 (using C)"
      ],
      "metadata": {
        "id": "FZQuLFz9gFYD"
      }
    },
    {
      "cell_type": "markdown",
      "source": [
        "### Apparatus\n",
        "1. Welcome To Colaboratory - Colaboratory <br>\n",
        "https://colab.research.google.com/\n",
        "2. Online C Compiler, Visual Debugger, and AI Tutor - Learn C programming by visualizing code <br>\n",
        "https://pythontutor.com/c.html#mode=edit\n",
        "3. GDB online Debugger | Compiler - Code, Compile, Run, Debug online C, C++ <br>\n",
        "https://www.onlinegdb.com/ <br>\n",
        "https://www.onlinegdb.com/online_c_compiler\n"
      ],
      "metadata": {
        "id": "YLHoLioJev9_"
      }
    },
    {
      "cell_type": "code",
      "source": [
        "#!nvidia-smi\n",
        "import multiprocessing\n",
        "\n",
        "cores = multiprocessing.cpu_count() # Count the number of cores in a computer\n",
        "cores"
      ],
      "metadata": {
        "colab": {
          "base_uri": "https://localhost:8080/"
        },
        "id": "TZ-kVhGstUjc",
        "outputId": "35c4febf-af28-4d87-b005-e7e48ac81aca"
      },
      "execution_count": null,
      "outputs": [
        {
          "output_type": "execute_result",
          "data": {
            "text/plain": [
              "2"
            ]
          },
          "metadata": {},
          "execution_count": 1
        }
      ]
    },
    {
      "cell_type": "markdown",
      "source": [
        "### Sourcecode\n",
        "<font color='red'>Note: There are several ways to upload a file to Google Colab, like mounting your Google Drive and execute a copy operation.</font>"
      ],
      "metadata": {
        "id": "MFD1nkQpLEmr"
      }
    },
    {
      "cell_type": "code",
      "execution_count": null,
      "metadata": {
        "colab": {
          "base_uri": "https://localhost:8080/"
        },
        "id": "-j3LLpg3kqKh",
        "outputId": "6c7095b7-2373-492b-b07c-0e71261e2a54"
      },
      "outputs": [
        {
          "output_type": "stream",
          "name": "stdout",
          "text": [
            "Mounted at /content/gdrive\n"
          ]
        }
      ],
      "source": [
        "from google.colab import drive\n",
        "drive.mount('/content/gdrive')"
      ]
    },
    {
      "cell_type": "code",
      "source": [
        "import shutil\n",
        "gdrive_link = \"/content/gdrive/MyDrive/uitm/course/ECE633/slides/Week 4/src/ch4.zip\"\n",
        "colab_link = \"/content/\"\n",
        "shutil.copy(gdrive_link, colab_link)"
      ],
      "metadata": {
        "id": "onR2UVlJosBD",
        "colab": {
          "base_uri": "https://localhost:8080/",
          "height": 36
        },
        "outputId": "7815fa2b-32fa-4497-c8a2-9ebe3595e4d2"
      },
      "execution_count": null,
      "outputs": [
        {
          "output_type": "execute_result",
          "data": {
            "text/plain": [
              "'/content/ch4.zip'"
            ],
            "application/vnd.google.colaboratory.intrinsic+json": {
              "type": "string"
            }
          },
          "metadata": {},
          "execution_count": 3
        }
      ]
    },
    {
      "cell_type": "code",
      "source": [
        "!ls"
      ],
      "metadata": {
        "colab": {
          "base_uri": "https://localhost:8080/"
        },
        "id": "13zqhLvnEpnb",
        "outputId": "8fa8434f-70f4-48db-8b59-003d74e3200f"
      },
      "execution_count": null,
      "outputs": [
        {
          "output_type": "stream",
          "name": "stdout",
          "text": [
            "ch4.zip  gdrive  sample_data\n"
          ]
        }
      ]
    },
    {
      "cell_type": "code",
      "source": [
        "!unzip ch4.zip\n"
      ],
      "metadata": {
        "colab": {
          "base_uri": "https://localhost:8080/"
        },
        "id": "JZ8bG7KHBsG5",
        "outputId": "5ea424f7-0931-46ad-d819-a99e69b9e2c7"
      },
      "execution_count": null,
      "outputs": [
        {
          "output_type": "stream",
          "name": "stdout",
          "text": [
            "Archive:  ch4.zip\n",
            "   creating: ch4/\n",
            "  inflating: ch4/Driver.java         \n",
            "  inflating: ch4/fig4-23.c           \n",
            "  inflating: ch4/openmp.c            \n",
            "  inflating: ch4/SumTask.java        \n",
            "  inflating: ch4/thrd-posix.c        \n",
            "  inflating: ch4/thrd-win32.c        \n",
            "  inflating: ch4/ThreadPoolExample.java  \n"
          ]
        }
      ]
    },
    {
      "cell_type": "code",
      "source": [
        "#!rm -r cpu-api\n",
        "%cd ch4\n"
      ],
      "metadata": {
        "id": "KdzEtploBkLM",
        "colab": {
          "base_uri": "https://localhost:8080/"
        },
        "outputId": "af22c859-7f56-4eda-e525-1b24f6b32b30"
      },
      "execution_count": null,
      "outputs": [
        {
          "output_type": "stream",
          "name": "stdout",
          "text": [
            "/content/ch4\n"
          ]
        }
      ]
    },
    {
      "cell_type": "code",
      "source": [
        "!ls"
      ],
      "metadata": {
        "colab": {
          "base_uri": "https://localhost:8080/"
        },
        "id": "qpdhIl0qB2F7",
        "outputId": "81a1bfa6-c98d-426e-a13f-ec14cc6eea3a"
      },
      "execution_count": null,
      "outputs": [
        {
          "output_type": "stream",
          "name": "stdout",
          "text": [
            "Driver.java  fig4-23.c\topenmp.c  SumTask.java\tthrd-posix.c  thrd-win32.c  ThreadPoolExample.java\n"
          ]
        }
      ]
    },
    {
      "cell_type": "markdown",
      "source": [
        "### Figure 4.11 Multithreaded C program using the Pthreads API."
      ],
      "metadata": {
        "id": "jHMQMFUQFAga"
      }
    },
    {
      "cell_type": "code",
      "source": [
        "!cat thrd-posix.c"
      ],
      "metadata": {
        "colab": {
          "base_uri": "https://localhost:8080/"
        },
        "id": "slLmyq6g2l-l",
        "outputId": "5daeb311-c9da-48dd-bbe3-c27159656261"
      },
      "execution_count": null,
      "outputs": [
        {
          "output_type": "stream",
          "name": "stdout",
          "text": [
            "/**\n",
            " * A pthread program illustrating how to\n",
            " * create a simple thread and some of the pthread API\n",
            " * This program implements the summation function where\n",
            " * the summation operation is run as a separate thread.\n",
            " *\n",
            " * Most Unix/Linux/OS X users\n",
            " * gcc thrd.c -lpthread\n",
            " *\n",
            " * Figure 4.11\n",
            " *\n",
            " * @author Gagne, Galvin, Silberschatz\n",
            " * Operating System Concepts  - Tenth Edition\n",
            " * Copyright John Wiley & Sons - 2018\n",
            " */\n",
            "\n",
            "#include <pthread.h>\n",
            "#include <stdio.h>\n",
            "#include <stdlib.h>\n",
            "\n",
            "int sum; /* this data is shared by the thread(s) */\n",
            "\n",
            "void *runner(void *param); /* the thread */\n",
            "\n",
            "int main(int argc, char *argv[])\n",
            "{\n",
            "pthread_t tid; /* the thread identifier */\n",
            "pthread_attr_t attr; /* set of attributes for the thread */\n",
            "\n",
            "if (argc != 2) {\n",
            "\tfprintf(stderr,\"usage: a.out <integer value>\\n\");\n",
            "\t/*exit(1);*/\n",
            "\treturn -1;\n",
            "}\n",
            "\n",
            "if (atoi(argv[1]) < 0) {\n",
            "\tfprintf(stderr,\"Argument %d must be non-negative\\n\",atoi(argv[1]));\n",
            "\t/*exit(1);*/\n",
            "\treturn -1;\n",
            "}\n",
            "\n",
            "/* get the default attributes */\n",
            "pthread_attr_init(&attr);\n",
            "\n",
            "/* create the thread */\n",
            "pthread_create(&tid,&attr,runner,argv[1]);\n",
            "\n",
            "/* now wait for the thread to exit */\n",
            "pthread_join(tid,NULL);\n",
            "\n",
            "printf(\"sum = %d\\n\",sum);\n",
            "}\n",
            "\n",
            "/**\n",
            " * The thread will begin control in this function\n",
            " */\n",
            "void *runner(void *param) \n",
            "{\n",
            "int i, upper = atoi(param);\n",
            "sum = 0;\n",
            "\n",
            "\tif (upper > 0) {\n",
            "\t\tfor (i = 1; i <= upper; i++)\n",
            "\t\t\tsum += i;\n",
            "\t}\n",
            "\n",
            "\tpthread_exit(0);\n",
            "}\n"
          ]
        }
      ]
    },
    {
      "cell_type": "code",
      "source": [
        "!gcc thrd-posix.c -Wall -lpthread\n",
        "!./a.out 10"
      ],
      "metadata": {
        "id": "KQ-NAqlwkfK-",
        "colab": {
          "base_uri": "https://localhost:8080/"
        },
        "outputId": "d2ee3a3c-de17-46a8-8762-76c6946e2fd2"
      },
      "execution_count": null,
      "outputs": [
        {
          "output_type": "stream",
          "name": "stdout",
          "text": [
            "sum = 55\n"
          ]
        }
      ]
    },
    {
      "cell_type": "markdown",
      "source": [
        "### OpenMP"
      ],
      "metadata": {
        "id": "99ytLQu3Mgj6"
      }
    },
    {
      "cell_type": "code",
      "source": [
        "!cat openmp.c"
      ],
      "metadata": {
        "id": "KLnZNQP4oiP0",
        "colab": {
          "base_uri": "https://localhost:8080/"
        },
        "outputId": "2a744d70-1b37-4781-dba7-8938a702c063"
      },
      "execution_count": null,
      "outputs": [
        {
          "output_type": "stream",
          "name": "stdout",
          "text": [
            "/**\n",
            " * Example of openmp parallel region\n",
            " * \n",
            " * To compile, enter:\n",
            " *\n",
            " *\tgcc -fopenmp openmp.c\n",
            " *\n",
            " * You should see the message \"I am a parallel region\" for each\n",
            " * processing core on your system.\n",
            " *\n",
            " * For those using a virtual machine, make sure you set the number of\n",
            " * processing cores > 1 to see parallel execution of the parallel region.\n",
            " */\n",
            "\n",
            "#include <omp.h>\n",
            "#include <stdio.h>\n",
            "\n",
            "int main(int argc, char *argv[])\n",
            "{\n",
            "\t/* sequential code */\n",
            "\n",
            "\t#pragma omp parallel\n",
            "\t{\n",
            "\t\tprintf(\"I am a parallel region\\n\");\n",
            "\t}\n",
            "\n",
            "\t/* sequential code */\n",
            "\n",
            "\treturn 0;\n",
            "}\n"
          ]
        }
      ]
    },
    {
      "cell_type": "code",
      "source": [
        "!gcc -fopenmp openmp.c -Wall\n",
        "#!rm nohup.out\n",
        "!./a.out\n",
        "#!cat nohup.out"
      ],
      "metadata": {
        "id": "RPfAyafCODes",
        "colab": {
          "base_uri": "https://localhost:8080/"
        },
        "outputId": "1acb4f73-e055-4d83-932f-7a9f99b86756"
      },
      "execution_count": null,
      "outputs": [
        {
          "output_type": "stream",
          "name": "stdout",
          "text": [
            "I am a parallel region\n",
            "I am a parallel region\n"
          ]
        }
      ]
    },
    {
      "cell_type": "markdown",
      "source": [
        "### Figure 4.22 C program for Exercise 4.19.\n",
        "\n"
      ],
      "metadata": {
        "id": "n6IjQAOJMjmd"
      }
    },
    {
      "cell_type": "code",
      "source": [
        "!cat fig4-23.c"
      ],
      "metadata": {
        "id": "EV1vgzChP5nN",
        "colab": {
          "base_uri": "https://localhost:8080/"
        },
        "outputId": "8876bf73-e0b3-48a4-a3b7-d8b98f9f7158"
      },
      "execution_count": null,
      "outputs": [
        {
          "output_type": "stream",
          "name": "stdout",
          "text": [
            "/**\n",
            " * A pthread program illustrating how to\n",
            " * create a simple thread and some of the pthread API\n",
            " * This program implements the summation function where\n",
            " * the summation operation is run as a separate thread.\n",
            " *\n",
            " * Most Unix/Linux/OS X users\n",
            " * gcc fig4-23.c -lpthread\n",
            " *\n",
            " * Figure 4.23\n",
            " *\n",
            " * @author Gagne, Galvin, Silberschatz\n",
            " * Operating System Concepts  - Tenth Edition\n",
            " * Copyright John Wiley & Sons - 2018\n",
            " */\n",
            "\n",
            "#include <pthread.h>\n",
            "#include <stdio.h>\n",
            "#include <unistd.h>\n",
            "#include <sys/wait.h>\n",
            "\n",
            "int value = 0;\n",
            "void *runner(void *param); /* the thread */\n",
            "\n",
            "int main(int argc, char *argv[])\n",
            "{\n",
            "\tpid_t pid;\n",
            "\tpthread_t tid; pthread_attr_t attr;\n",
            "\tpid = fork();\n",
            "\n",
            "\tif (pid == 0) { /* child process */ \n",
            "\t\tpthread_attr_init(&attr);\n",
            "\t\tpthread_create(&tid,&attr,runner,NULL); \n",
            "\t\tpthread_join(tid,NULL);\n",
            "    \t\tprintf(\"CHILD: value = %d\",value); /* LINE C */\n",
            "\t}\n",
            "\telse if (pid > 0) { /* parent process */\n",
            "\t\twait(NULL);\n",
            "    \t\tprintf(\"PARENT: value = %d\",value); /* LINE P */\n",
            "\t} \n",
            "}\n",
            "\n",
            "void *runner(void *param) { \n",
            "\tvalue = 5;\n",
            "\tpthread_exit(0);\n",
            "}\n"
          ]
        }
      ]
    },
    {
      "cell_type": "code",
      "source": [
        "!gcc fig4-23.c -Wall -lpthread\n",
        "!./a.out"
      ],
      "metadata": {
        "id": "8EcTJUzgTiSP",
        "colab": {
          "base_uri": "https://localhost:8080/"
        },
        "outputId": "b175bbd9-57a5-4049-bcad-c194c3626a44"
      },
      "execution_count": null,
      "outputs": [
        {
          "output_type": "stream",
          "name": "stdout",
          "text": [
            "CHILD: value = 5PARENT: value = 0"
          ]
        }
      ]
    }
  ]
}