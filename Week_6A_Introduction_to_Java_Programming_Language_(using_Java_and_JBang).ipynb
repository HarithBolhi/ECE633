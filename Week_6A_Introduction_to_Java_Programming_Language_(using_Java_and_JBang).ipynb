{
  "nbformat": 4,
  "nbformat_minor": 0,
  "metadata": {
    "colab": {
      "provenance": [],
      "include_colab_link": true
    },
    "kernelspec": {
      "name": "jbang-ijava",
      "display_name": "java (IJava/j!)"
    }
  },
  "cells": [
    {
      "cell_type": "markdown",
      "metadata": {
        "id": "view-in-github",
        "colab_type": "text"
      },
      "source": [
        "<a href=\"https://colab.research.google.com/github/HarithBolhi/ECE633/blob/main/Week_6A_Introduction_to_Java_Programming_Language_(using_Java_and_JBang).ipynb\" target=\"_parent\"><img src=\"https://colab.research.google.com/assets/colab-badge.svg\" alt=\"Open In Colab\"/></a>"
      ]
    },
    {
      "cell_type": "markdown",
      "source": [
        "# Week 6A\n",
        "Ir. Dr. Syahrul Afzal bin Che Abdullah\n",
        "## Introduction to Java Programming Language (using Java and JBang)"
      ],
      "metadata": {
        "id": "FZQuLFz9gFYD"
      }
    },
    {
      "cell_type": "markdown",
      "source": [
        "### Apparatus\n",
        "1. Welcome To Colaboratory - Colaboratory <br>\n",
        "https://colab.research.google.com/\n",
        "2. JBang <br>\n",
        "https://www.jbang.dev/try/\n",
        "3. GDB online Debugger | Compiler - Code, Compile, Run, Debug online C, C++ <br>\n",
        "https://www.onlinegdb.com/ <br>\n",
        "https://www.onlinegdb.com/online_java_compiler\n"
      ],
      "metadata": {
        "id": "YLHoLioJev9_"
      }
    },
    {
      "cell_type": "markdown",
      "source": [
        "### Sourcecode\n",
        "<font color='red'>Note: There are several ways to upload a file to Google Colab, like mounting your Google Drive and execute a copy operation.</font>"
      ],
      "metadata": {
        "id": "MFD1nkQpLEmr"
      }
    },
    {
      "cell_type": "code",
      "source": [
        "!java --list-modules | grep \"jdk.jshell\""
      ],
      "metadata": {
        "colab": {
          "base_uri": "https://localhost:8080/"
        },
        "id": "b4qZy3gkNUb-",
        "outputId": "da75f924-9d5d-4ffc-8fb3-6f2ad9d02370"
      },
      "execution_count": null,
      "outputs": [
        {
          "output_type": "stream",
          "name": "stdout",
          "text": [
            "jdk.jshell@11.0.22\n"
          ]
        }
      ]
    },
    {
      "cell_type": "code",
      "source": [
        "%%writefile HelloWorld.java\n",
        "public class HelloWorld {\n",
        "    public static void main(String[] args) {\n",
        "        System.out.println(\"hello world\");\n",
        "    }\n",
        "}"
      ],
      "metadata": {
        "colab": {
          "base_uri": "https://localhost:8080/"
        },
        "id": "DzY8CiOIZyGv",
        "outputId": "52545a8b-e238-4a9a-8466-5e859c856fe4"
      },
      "execution_count": null,
      "outputs": [
        {
          "output_type": "stream",
          "name": "stdout",
          "text": [
            "Writing HelloWorld.java\n"
          ]
        }
      ]
    },
    {
      "cell_type": "code",
      "source": [
        "!javac HelloWorld.java\n",
        "!java HelloWorld"
      ],
      "metadata": {
        "colab": {
          "base_uri": "https://localhost:8080/"
        },
        "id": "roOWsrmpZ3wW",
        "outputId": "9f0b888d-4f03-4938-a287-1572feb978ba"
      },
      "execution_count": null,
      "outputs": [
        {
          "output_type": "stream",
          "name": "stdout",
          "text": [
            "hello world\n"
          ]
        }
      ]
    },
    {
      "cell_type": "markdown",
      "source": [
        "# Jupyter Notebook with Java\n",
        "[Jupyter Java](https://github.com/jupyter-java) <br>\n",
        "[JBang](https://www.jbang.dev/) <br>\n",
        "Run the following code block using a Python kernel. <br>\n",
        "Change runtime type to Java.\n"
      ],
      "metadata": {
        "id": "NzOofACR0IhU"
      }
    },
    {
      "cell_type": "code",
      "source": [
        "!pip install jbang # change to pip3 if pip command not found\n",
        "import jbang\n",
        "jbang.exec(\"trust add https://github.com/jupyter-java\")\n",
        "print(jbang.exec(\"install-kernel@jupyter-java --java 21 --enable-preview\").stdout)"
      ],
      "metadata": {
        "colab": {
          "base_uri": "https://localhost:8080/"
        },
        "id": "1IyCzlFg0FnA",
        "outputId": "6b367fc1-3557-4127-f2d6-ab8bfaa80438"
      },
      "execution_count": null,
      "outputs": [
        {
          "output_type": "stream",
          "name": "stdout",
          "text": [
            "Collecting jbang\n",
            "  Downloading jbang-0.4.0-py3-none-any.whl (2.6 kB)\n",
            "Installing collected packages: jbang\n",
            "Successfully installed jbang-0.4.0\n",
            "Creating /root/.local/share/jupyter/kernels\n",
            "java (IJava/j!)-tcp kernel installed to /root/.local/share/jupyter/kernels/jbang-ijava-tcp/kernel.json\n",
            "java (IJava/j!) kernel installed to /root/.local/share/jupyter/kernels/jbang-ijava/kernel.json\n",
            "Additional file: /root/.local/share/jupyter/kernels/jbang-ijava/ipc_proxy_kernel.py\n",
            "For more information on this specific kernel: https://github.com/SpencerPark/IJava\n",
            "\n",
            "Brought to you by https://github.com/jupyter-java\n",
            "\n"
          ]
        }
      ]
    },
    {
      "cell_type": "code",
      "source": [
        "System.out.println(\"Hello world!\");"
      ],
      "metadata": {
        "colab": {
          "base_uri": "https://localhost:8080/"
        },
        "id": "9tPwgggm0hQT",
        "outputId": "b989b0a0-3604-47b1-a7a8-5bcb8d6215da"
      },
      "execution_count": null,
      "outputs": [
        {
          "output_type": "stream",
          "name": "stdout",
          "text": [
            "Hello world!\n"
          ]
        }
      ]
    },
    {
      "cell_type": "markdown",
      "source": [
        "[maven repo for org.knowm.xchart:xchart](https://mvnrepository.com/artifact/org.knowm.xchart/xchart)"
      ],
      "metadata": {
        "id": "P4vgDTXpk4Vk"
      }
    },
    {
      "cell_type": "code",
      "source": [
        "%maven org.knowm.xchart:xchart:3.8.7\n",
        "import org.knowm.xchart.*;\n",
        "\n",
        "double[] xData = new double[] { 0.0, 1.0, 2.0 };\n",
        "double[] yData = new double[] { 2.0, 1.0, 0.0 };\n",
        "\n",
        "XYChart chart = QuickChart.getChart(\"Sample Chart\", \"X\", \"Y\", \"y(x)\", xData, yData);\n",
        "\n",
        "BitmapEncoder.getBufferedImage(chart);"
      ],
      "metadata": {
        "colab": {
          "base_uri": "https://localhost:8080/",
          "height": 417
        },
        "id": "tvBun-RJNYVt",
        "outputId": "117af75a-218b-4677-d5ed-893a580f0a19"
      },
      "execution_count": null,
      "outputs": [
        {
          "output_type": "execute_result",
          "data": {
            "image/png": "[encoded data removed]",
            "text/plain": [
              "BufferedImage@53fddfa9: type = 1 DirectColorModel: rmask=ff0000 gmask=ff00 bmask=ff amask=0 IntegerInterleavedRaster: width = 600 height = 400 #Bands = 3 xOff = 0 yOff = 0 dataOffset[0] 0"
            ]
          },
          "metadata": {},
          "execution_count": 12
        }
      ]
    }
  ]
}