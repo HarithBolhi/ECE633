{
  "nbformat": 4,
  "nbformat_minor": 0,
  "metadata": {
    "colab": {
      "provenance": [],
      "include_colab_link": true
    },
    "kernelspec": {
      "name": "python3",
      "display_name": "Python 3"
    },
    "language_info": {
      "name": "python"
    }
  },
  "cells": [
    {
      "cell_type": "markdown",
      "metadata": {
        "id": "view-in-github",
        "colab_type": "text"
      },
      "source": [
        "<a href=\"https://colab.research.google.com/github/HarithBolhi/ECE633/blob/main/Week_10A_yolinux_POSIX_thread_(pthread)_libraries_(using_C).ipynb\" target=\"_parent\"><img src=\"https://colab.research.google.com/assets/colab-badge.svg\" alt=\"Open In Colab\"/></a>"
      ]
    },
    {
      "cell_type": "markdown",
      "source": [
        "# Week 10A\n",
        "Ir. Dr. Syahrul Afzal bin Che Abdullah\n",
        "## yolinux POSIX thread (pthread) libraries (using C)\n",
        "[Linux Tutorial: POSIX Threads](http://www.yolinux.com/TUTORIALS/LinuxTutorialPosixThreads.html)"
      ],
      "metadata": {
        "id": "FZQuLFz9gFYD"
      }
    },
    {
      "cell_type": "markdown",
      "source": [
        "### Apparatus\n",
        "1. Welcome To Colaboratory - Colaboratory <br>\n",
        "https://colab.research.google.com/\n",
        "2. Online C Compiler, Visual Debugger, and AI Tutor - Learn C programming by visualizing code <br>\n",
        "https://pythontutor.com/c.html#mode=edit\n",
        "3. GDB online Debugger | Compiler - Code, Compile, Run, Debug online C, C++ <br>\n",
        "https://www.onlinegdb.com/ <br>\n",
        "https://www.onlinegdb.com/online_c_compiler\n"
      ],
      "metadata": {
        "id": "YLHoLioJev9_"
      }
    },
    {
      "cell_type": "markdown",
      "source": [
        "### Sourcecode\n",
        "<font color='red'>Note: There are several ways to upload a file to Google Colab, like mounting your Google Drive and execute a copy operation.</font>"
      ],
      "metadata": {
        "id": "MFD1nkQpLEmr"
      }
    },
    {
      "cell_type": "markdown",
      "source": [
        "### Thread Basics:\n",
        "\n"
      ],
      "metadata": {
        "id": "z3QsumsFCDPU"
      }
    },
    {
      "cell_type": "markdown",
      "source": [
        "### Thread Creation and Termination:\n",
        "Function call: pthread_create - create a new thread. <br>\n",
        "Function call: pthread_join - wait for termination of another thread. <br>\n",
        "Function call: pthread_exit - terminate the calling thread."
      ],
      "metadata": {
        "id": "NNH40RS1fGB4"
      }
    },
    {
      "cell_type": "code",
      "source": [
        "%%writefile pthread1.c\n",
        "#include <stdio.h>\n",
        "#include <stdlib.h>\n",
        "#include <pthread.h>\n",
        "\n",
        "void *print_message_function( void *ptr );\n",
        "\n",
        "//main()\n",
        "int main() // modify by sabca\n",
        "{\n",
        "     pthread_t thread1, thread2;\n",
        "     const char *message1 = \"Thread 1\";\n",
        "     const char *message2 = \"Thread 2\";\n",
        "     int  iret1, iret2;\n",
        "\n",
        "    /* Create independent threads each of which will execute function */\n",
        "\n",
        "     iret1 = pthread_create( &thread1, NULL, print_message_function, (void*) message1);\n",
        "     if(iret1)\n",
        "     {\n",
        "         fprintf(stderr,\"Error - pthread_create() return code: %d\\n\",iret1);\n",
        "         exit(EXIT_FAILURE);\n",
        "     }\n",
        "\n",
        "     iret2 = pthread_create( &thread2, NULL, print_message_function, (void*) message2);\n",
        "     if(iret2)\n",
        "     {\n",
        "         fprintf(stderr,\"Error - pthread_create() return code: %d\\n\",iret2);\n",
        "         exit(EXIT_FAILURE);\n",
        "     }\n",
        "\n",
        "     printf(\"pthread_create() for thread 1 returns: %d\\n\",iret1);\n",
        "     printf(\"pthread_create() for thread 2 returns: %d\\n\",iret2);\n",
        "\n",
        "     /* Wait till threads are complete before main continues. Unless we  */\n",
        "     /* wait we run the risk of executing an exit which will terminate   */\n",
        "     /* the process and all threads before the threads have completed.   */\n",
        "\n",
        "     pthread_join( thread1, NULL);\n",
        "     pthread_join( thread2, NULL);\n",
        "\n",
        "     exit(EXIT_SUCCESS);\n",
        "}\n",
        "\n",
        "void *print_message_function( void *ptr )\n",
        "{\n",
        "     char *message;\n",
        "     message = (char *) ptr;\n",
        "     printf(\"%s \\n\", message);\n",
        "\n",
        "     return NULL; //add by sabca\n",
        "}"
      ],
      "metadata": {
        "colab": {
          "base_uri": "https://localhost:8080/"
        },
        "id": "3UBJAqhI6ScN",
        "outputId": "ab4bfd9a-db3b-49a2-f0a4-50b68ec9fba3"
      },
      "execution_count": null,
      "outputs": [
        {
          "output_type": "stream",
          "name": "stdout",
          "text": [
            "Writing pthread1.c\n"
          ]
        }
      ]
    },
    {
      "cell_type": "code",
      "source": [
        "!gcc -o pthread1 pthread1.c -lpthread -Wall\n",
        "!./pthread1"
      ],
      "metadata": {
        "colab": {
          "base_uri": "https://localhost:8080/"
        },
        "id": "ALNWTn236Tov",
        "outputId": "501ebb5b-74b5-43c5-a72f-9245a992d167"
      },
      "execution_count": null,
      "outputs": [
        {
          "output_type": "stream",
          "name": "stdout",
          "text": [
            "pthread_create() for thread 1 returns: 0\n",
            "pthread_create() for thread 2 returns: 0\n",
            "Thread 2 \n",
            "Thread 1 \n"
          ]
        }
      ]
    },
    {
      "cell_type": "markdown",
      "source": [
        "### Thread Synchronization:\n",
        "The threads library provides three synchronization mechanisms: <br>\n",
        "1. mutexes - Mutual exclusion lock: Block access to variables by other threads. This enforces exclusive access by a thread to a variable or set of variables. <br><br>\n",
        "pthread_mutex_lock() - acquire a lock on the specified mutex variable. If the mutex is already locked by another thread, this call will block the calling thread until the mutex is unlocked. <br>\n",
        "pthread_mutex_unlock() - unlock a mutex variable. An error is returned if mutex is already unlocked or owned by another thread. <br>\n",
        "pthread_mutex_trylock() - attempt to lock a mutex or will return error code if busy. Useful for preventing deadlock conditions."
      ],
      "metadata": {
        "id": "Ip339rxtgac6"
      }
    },
    {
      "cell_type": "code",
      "source": [
        "%%writefile mutex1.c\n",
        "#include <stdio.h>\n",
        "#include <stdlib.h>\n",
        "#include <pthread.h>\n",
        "\n",
        "void *functionC();\n",
        "pthread_mutex_t mutex1 = PTHREAD_MUTEX_INITIALIZER;\n",
        "int  counter = 0;\n",
        "\n",
        "//main()\n",
        "int main() // modify by sabca\n",
        "{\n",
        "   int rc1, rc2;\n",
        "   pthread_t thread1, thread2;\n",
        "\n",
        "   /* Create independent threads each of which will execute functionC */\n",
        "\n",
        "   if( (rc1=pthread_create( &thread1, NULL, &functionC, NULL)) )\n",
        "   {\n",
        "      printf(\"Thread creation failed: %d\\n\", rc1);\n",
        "   }\n",
        "\n",
        "   if( (rc2=pthread_create( &thread2, NULL, &functionC, NULL)) )\n",
        "   {\n",
        "      printf(\"Thread creation failed: %d\\n\", rc2);\n",
        "   }\n",
        "\n",
        "   /* Wait till threads are complete before main continues. Unless we  */\n",
        "   /* wait we run the risk of executing an exit which will terminate   */\n",
        "   /* the process and all threads before the threads have completed.   */\n",
        "\n",
        "   pthread_join( thread1, NULL);\n",
        "   pthread_join( thread2, NULL);\n",
        "\n",
        "   exit(EXIT_SUCCESS);\n",
        "}\n",
        "\n",
        "void *functionC()\n",
        "{\n",
        "   pthread_mutex_lock( &mutex1 );\n",
        "   counter++;\n",
        "   printf(\"Counter value: %d\\n\",counter);\n",
        "   pthread_mutex_unlock( &mutex1 );\n",
        "\n",
        "   return NULL; //add by sabca\n",
        "}"
      ],
      "metadata": {
        "colab": {
          "base_uri": "https://localhost:8080/"
        },
        "id": "azAM353sg36o",
        "outputId": "06b203f4-ac55-40ee-84f7-dd99d95b50e0"
      },
      "execution_count": null,
      "outputs": [
        {
          "output_type": "stream",
          "name": "stdout",
          "text": [
            "Writing mutex1.c\n"
          ]
        }
      ]
    },
    {
      "cell_type": "code",
      "source": [
        "!gcc -o mutex1 mutex1.c -lpthread -Wall\n",
        "!./mutex1"
      ],
      "metadata": {
        "colab": {
          "base_uri": "https://localhost:8080/"
        },
        "id": "FwtWIF4HhBjQ",
        "outputId": "75c8dff5-b2fa-45a2-e5a0-aadd3e289432"
      },
      "execution_count": null,
      "outputs": [
        {
          "output_type": "stream",
          "name": "stdout",
          "text": [
            "Counter value: 1\n",
            "Counter value: 2\n"
          ]
        }
      ]
    },
    {
      "cell_type": "code",
      "source": [
        "%%writefile mutex1_mod.c\n",
        "#include <stdio.h>\n",
        "#include <stdlib.h>\n",
        "#include <pthread.h>\n",
        "\n",
        "void *functionC();\n",
        "pthread_mutex_t mutex1 = PTHREAD_MUTEX_INITIALIZER;\n",
        "int  counter = 0;\n",
        "\n",
        "//main()\n",
        "int main() // modify by sabca\n",
        "{\n",
        "   int rc1, rc2;\n",
        "   pthread_t thread1, thread2;\n",
        "\n",
        "   /* Create independent threads each of which will execute functionC */\n",
        "\n",
        "   if( (rc1=pthread_create( &thread1, NULL, &functionC, NULL)) )\n",
        "   {\n",
        "      printf(\"Thread creation failed: %d\\n\", rc1);\n",
        "   }\n",
        "\n",
        "   if( (rc2=pthread_create( &thread2, NULL, &functionC, NULL)) )\n",
        "   {\n",
        "      printf(\"Thread creation failed: %d\\n\", rc2);\n",
        "   }\n",
        "\n",
        "   /* Wait till threads are complete before main continues. Unless we  */\n",
        "   /* wait we run the risk of executing an exit which will terminate   */\n",
        "   /* the process and all threads before the threads have completed.   */\n",
        "\n",
        "   pthread_join( thread1, NULL);\n",
        "   pthread_join( thread2, NULL);\n",
        "\n",
        "   exit(EXIT_SUCCESS);\n",
        "}\n",
        "\n",
        "void *functionC()\n",
        "{\n",
        "   pthread_mutex_lock( &mutex1 );\n",
        "   for (int i = 0; i < 10000000; i++) {\n",
        "      counter++;\n",
        "   }\n",
        "   printf(\"Counter value: %d\\n\",counter);\n",
        "   pthread_mutex_unlock( &mutex1 );\n",
        "\n",
        "   return NULL; //add by sabca\n",
        "}"
      ],
      "metadata": {
        "colab": {
          "base_uri": "https://localhost:8080/"
        },
        "id": "ANldHgTOFiCg",
        "outputId": "dd7d3de6-daff-4d8a-c795-31edf0241208"
      },
      "execution_count": null,
      "outputs": [
        {
          "output_type": "stream",
          "name": "stdout",
          "text": [
            "Overwriting mutex1_mod.c\n"
          ]
        }
      ]
    },
    {
      "cell_type": "code",
      "source": [
        "!gcc -o mutex1_mod mutex1_mod.c -lpthread -Wall\n",
        "!./mutex1_mod"
      ],
      "metadata": {
        "colab": {
          "base_uri": "https://localhost:8080/"
        },
        "id": "4ssN6tzfF16X",
        "outputId": "e1dd7fe3-75b9-4ef2-e726-422c190ae260"
      },
      "execution_count": null,
      "outputs": [
        {
          "output_type": "stream",
          "name": "stdout",
          "text": [
            "Counter value: 10000000\n",
            "Counter value: 20000000\n"
          ]
        }
      ]
    },
    {
      "cell_type": "markdown",
      "source": [
        "2. joins - Make a thread wait till others are complete (terminated). <br><br>\n",
        "pthread_self() - return identifier of current thread."
      ],
      "metadata": {
        "id": "Klz0NNutiz9J"
      }
    },
    {
      "cell_type": "code",
      "source": [
        "%%writefile join1.c\n",
        "#include <stdio.h>\n",
        "#include <pthread.h>\n",
        "\n",
        "#define NTHREADS 10\n",
        "void *thread_function(void *);\n",
        "pthread_mutex_t mutex1 = PTHREAD_MUTEX_INITIALIZER;\n",
        "int  counter = 0;\n",
        "\n",
        "//main()\n",
        "int main() // modify by sabca\n",
        "{\n",
        "   pthread_t thread_id[NTHREADS];\n",
        "   int i, j;\n",
        "\n",
        "   for(i=0; i < NTHREADS; i++)\n",
        "   {\n",
        "      pthread_create( &thread_id[i], NULL, thread_function, NULL );\n",
        "   }\n",
        "\n",
        "   for(j=0; j < NTHREADS; j++)\n",
        "   {\n",
        "      pthread_join( thread_id[j], NULL);\n",
        "   }\n",
        "\n",
        "   /* Now that all threads are complete I can print the final result.     */\n",
        "   /* Without the join I could be printing a value before all the threads */\n",
        "   /* have been completed.                                                */\n",
        "\n",
        "   printf(\"Final counter value: %d\\n\", counter);\n",
        "}\n",
        "\n",
        "void *thread_function(void *dummyPtr)\n",
        "{\n",
        "   printf(\"Thread number %ld\\n\", pthread_self());\n",
        "   pthread_mutex_lock( &mutex1 );\n",
        "   counter++;\n",
        "   pthread_mutex_unlock( &mutex1 );\n",
        "\n",
        "   return NULL; //add by sabca\n",
        "}"
      ],
      "metadata": {
        "colab": {
          "base_uri": "https://localhost:8080/"
        },
        "id": "lkS472gdhXHg",
        "outputId": "1ea7fca7-cf3a-4528-a9a9-f9b6602bc9e3"
      },
      "execution_count": null,
      "outputs": [
        {
          "output_type": "stream",
          "name": "stdout",
          "text": [
            "Writing join1.c\n"
          ]
        }
      ]
    },
    {
      "cell_type": "code",
      "source": [
        "!gcc -o join1 join1.c -lpthread -Wall\n",
        "!./join1"
      ],
      "metadata": {
        "colab": {
          "base_uri": "https://localhost:8080/"
        },
        "id": "OX3XsFa8hgAl",
        "outputId": "66fd2522-00fe-45cd-efbe-865443bf6db8"
      },
      "execution_count": null,
      "outputs": [
        {
          "output_type": "stream",
          "name": "stdout",
          "text": [
            "Thread number 138843413829184\n",
            "Thread number 138843472578112\n",
            "Thread number 138843464185408\n",
            "Thread number 138843455792704\n",
            "Thread number 138843480970816\n",
            "Thread number 138843447400000\n",
            "Thread number 138843489363520\n",
            "Thread number 138843439007296\n",
            "Thread number 138843430614592\n",
            "Thread number 138843422221888\n",
            "Final counter value: 10\n"
          ]
        }
      ]
    },
    {
      "cell_type": "markdown",
      "source": [
        "3. condition variables - data type pthread_cond_t. <br>\n",
        "\n",
        "Functions used in conjunction with the condition variable:<br>\n",
        "**Creating/Destroying:** <br>\n",
        "*   pthread_cond_init <br>\n",
        "*   pthread_cond_t cond = PTHREAD_COND_INITIALIZER; <br>\n",
        "*   pthread_cond_destroy <br>\n",
        "\n",
        "**Waiting on condition:** <br>\n",
        "*   pthread_cond_wait - unlocks the mutex and waits for the condition variable cond to be signaled. <br>\n",
        "*   pthread_cond_timedwait - place limit on how long it will block. <br>\n",
        "\n",
        "**Waking thread based on condition:** <br>\n",
        "*   pthread_cond_signal - restarts one of the threads that are waiting on the condition variable cond. <br>\n",
        "*   pthread_cond_broadcast - wake up all threads blocked by the specified condition variable. <br>"
      ],
      "metadata": {
        "id": "fHlS5x-Zj06A"
      }
    },
    {
      "cell_type": "code",
      "source": [
        "%%writefile cond1.c\n",
        "#include <stdio.h>\n",
        "#include <stdlib.h>\n",
        "#include <pthread.h>\n",
        "\n",
        "pthread_mutex_t count_mutex     = PTHREAD_MUTEX_INITIALIZER;\n",
        "pthread_cond_t  condition_var   = PTHREAD_COND_INITIALIZER;\n",
        "\n",
        "void *functionCount1();\n",
        "void *functionCount2();\n",
        "int  count = 0;\n",
        "#define COUNT_DONE  10\n",
        "#define COUNT_HALT1  3\n",
        "#define COUNT_HALT2  6\n",
        "\n",
        "//main()\n",
        "int main() // modify by sabca\n",
        "{\n",
        "   pthread_t thread1, thread2;\n",
        "\n",
        "   pthread_create( &thread1, NULL, &functionCount1, NULL);\n",
        "   pthread_create( &thread2, NULL, &functionCount2, NULL);\n",
        "\n",
        "   pthread_join( thread1, NULL);\n",
        "   pthread_join( thread2, NULL);\n",
        "\n",
        "   printf(\"Final count: %d\\n\",count);\n",
        "\n",
        "   exit(EXIT_SUCCESS);\n",
        "}\n",
        "\n",
        "// Write numbers 1-3 and 8-10 as permitted by functionCount2()\n",
        "\n",
        "void *functionCount1()\n",
        "{\n",
        "   for(;;)\n",
        "   {\n",
        "      // Lock mutex and then wait for signal to relase mutex\n",
        "      pthread_mutex_lock( &count_mutex );\n",
        "\n",
        "      // Wait while functionCount2() operates on count\n",
        "      // mutex unlocked if condition varialbe in functionCount2() signaled.\n",
        "      pthread_cond_wait( &condition_var, &count_mutex );\n",
        "      count++;\n",
        "      printf(\"Counter value functionCount1: %d\\n\",count);\n",
        "\n",
        "      pthread_mutex_unlock( &count_mutex );\n",
        "\n",
        "      if(count >= COUNT_DONE) return(NULL);\n",
        "    }\n",
        "}\n",
        "\n",
        "// Write numbers 4-7\n",
        "\n",
        "void *functionCount2()\n",
        "{\n",
        "    for(;;)\n",
        "    {\n",
        "       pthread_mutex_lock( &count_mutex );\n",
        "\n",
        "       if( count < COUNT_HALT1 || count > COUNT_HALT2 )\n",
        "       {\n",
        "          // Condition of if statement has been met.\n",
        "          // Signal to free waiting thread by freeing the mutex.\n",
        "          // Note: functionCount1() is now permitted to modify \"count\".\n",
        "          pthread_cond_signal( &condition_var );\n",
        "       }\n",
        "       else\n",
        "       {\n",
        "          count++;\n",
        "          printf(\"Counter value functionCount2: %d\\n\",count);\n",
        "       }\n",
        "\n",
        "       pthread_mutex_unlock( &count_mutex );\n",
        "\n",
        "       if(count >= COUNT_DONE) return(NULL);\n",
        "    }\n",
        "}"
      ],
      "metadata": {
        "colab": {
          "base_uri": "https://localhost:8080/"
        },
        "id": "yXbbDqAnkzit",
        "outputId": "a1ea4303-a429-44e0-e4ac-bdd4ecc64b5f"
      },
      "execution_count": null,
      "outputs": [
        {
          "output_type": "stream",
          "name": "stdout",
          "text": [
            "Writing cond1.c\n"
          ]
        }
      ]
    },
    {
      "cell_type": "code",
      "source": [
        "!gcc -o cond1 cond1.c -lpthread -Wall\n",
        "!./cond1"
      ],
      "metadata": {
        "colab": {
          "base_uri": "https://localhost:8080/"
        },
        "id": "SKqtUMpdleXx",
        "outputId": "cd09cbec-a846-4a2d-8e26-56173614b326"
      },
      "execution_count": null,
      "outputs": [
        {
          "output_type": "stream",
          "name": "stdout",
          "text": [
            "Counter value functionCount1: 1\n",
            "Counter value functionCount1: 2\n",
            "Counter value functionCount1: 3\n",
            "Counter value functionCount2: 4\n",
            "Counter value functionCount2: 5\n",
            "Counter value functionCount2: 6\n",
            "Counter value functionCount2: 7\n",
            "Counter value functionCount1: 8\n",
            "Counter value functionCount1: 9\n",
            "Counter value functionCount1: 10\n",
            "Final count: 10\n"
          ]
        }
      ]
    },
    {
      "cell_type": "code",
      "source": [
        "%%writefile cond1_mod.c\n",
        "#include <stdio.h>\n",
        "#include <stdlib.h>\n",
        "#include <pthread.h>\n",
        "\n",
        "pthread_mutex_t count_mutex     = PTHREAD_MUTEX_INITIALIZER;\n",
        "pthread_cond_t  condition_var   = PTHREAD_COND_INITIALIZER;\n",
        "\n",
        "void *functionCount1();\n",
        "void *functionCount2();\n",
        "int  count = 0;\n",
        "#define COUNT_DONE  10\n",
        "#define COUNT_HALT1  3\n",
        "#define COUNT_HALT2  6\n",
        "\n",
        "//main()\n",
        "int main() // modify by sabca\n",
        "{\n",
        "   pthread_t thread1, thread2;\n",
        "\n",
        "   pthread_create( &thread1, NULL, &functionCount1, NULL);\n",
        "   pthread_create( &thread2, NULL, &functionCount2, NULL);\n",
        "\n",
        "   pthread_join( thread1, NULL);\n",
        "   pthread_join( thread2, NULL);\n",
        "\n",
        "   printf(\"Final count: %d\\n\",count);\n",
        "\n",
        "   exit(EXIT_SUCCESS);\n",
        "}\n",
        "\n",
        "// Write numbers 1-3 and 8-10 as permitted by functionCount2()\n",
        "\n",
        "void *functionCount1()\n",
        "{\n",
        "   for(;;)\n",
        "   {\n",
        "      // Lock mutex and then wait for signal to relase mutex\n",
        "      pthread_mutex_lock( &count_mutex );\n",
        "\n",
        "      // Wait while functionCount2() operates on count\n",
        "      // mutex unlocked if condition varialbe in functionCount2() signaled.\n",
        "      pthread_cond_wait( &condition_var, &count_mutex );\n",
        "      count++;\n",
        "      printf(\"Thread number %ld \", pthread_self());\n",
        "      printf(\"Counter value functionCount1: %d\\n\",count);\n",
        "\n",
        "      pthread_mutex_unlock( &count_mutex );\n",
        "\n",
        "      if(count >= COUNT_DONE) return(NULL);\n",
        "    }\n",
        "}\n",
        "\n",
        "// Write numbers 4-7\n",
        "\n",
        "void *functionCount2()\n",
        "{\n",
        "    for(;;)\n",
        "    {\n",
        "       pthread_mutex_lock( &count_mutex );\n",
        "\n",
        "       if( count < COUNT_HALT1 || count > COUNT_HALT2 )\n",
        "       {\n",
        "          // Condition of if statement has been met.\n",
        "          // Signal to free waiting thread by freeing the mutex.\n",
        "          // Note: functionCount1() is now permitted to modify \"count\".\n",
        "          pthread_cond_signal( &condition_var );\n",
        "       }\n",
        "       else\n",
        "       {\n",
        "          count++;\n",
        "          printf(\"Thread number %ld \", pthread_self());\n",
        "          printf(\"Counter value functionCount2: %d\\n\",count);\n",
        "       }\n",
        "\n",
        "       pthread_mutex_unlock( &count_mutex );\n",
        "\n",
        "       if(count >= COUNT_DONE) return(NULL);\n",
        "    }\n",
        "}"
      ],
      "metadata": {
        "colab": {
          "base_uri": "https://localhost:8080/"
        },
        "id": "lENtb21XmAbe",
        "outputId": "6e309b44-f90d-4fea-ac01-57da17b8d7b6"
      },
      "execution_count": null,
      "outputs": [
        {
          "output_type": "stream",
          "name": "stdout",
          "text": [
            "Writing cond1_mod.c\n"
          ]
        }
      ]
    },
    {
      "cell_type": "code",
      "source": [
        "!gcc -o cond1_mod cond1_mod.c -lpthread -Wall\n",
        "!./cond1_mod"
      ],
      "metadata": {
        "colab": {
          "base_uri": "https://localhost:8080/"
        },
        "id": "PjK_T88RmUcB",
        "outputId": "e32f9e0f-2352-43ef-e98a-de37971ab2b1"
      },
      "execution_count": null,
      "outputs": [
        {
          "output_type": "stream",
          "name": "stdout",
          "text": [
            "Thread number 135606961653312 Counter value functionCount1: 1\n",
            "Thread number 135606961653312 Counter value functionCount1: 2\n",
            "Thread number 135606961653312 Counter value functionCount1: 3\n",
            "Thread number 135606953260608 Counter value functionCount2: 4\n",
            "Thread number 135606953260608 Counter value functionCount2: 5\n",
            "Thread number 135606953260608 Counter value functionCount2: 6\n",
            "Thread number 135606953260608 Counter value functionCount2: 7\n",
            "Thread number 135606961653312 Counter value functionCount1: 8\n",
            "Thread number 135606961653312 Counter value functionCount1: 9\n",
            "Thread number 135606961653312 Counter value functionCount1: 10\n",
            "Final count: 10\n"
          ]
        }
      ]
    },
    {
      "cell_type": "markdown",
      "source": [
        "### Thread Scheduling:"
      ],
      "metadata": {
        "id": "dvNXFzYNmhQu"
      }
    },
    {
      "cell_type": "markdown",
      "source": [
        "### Thread Pitfalls:\n",
        "Race conditions: While the code may appear on the screen in the order you wish the code to execute, threads are scheduled by the operating system and are executed at random. It cannot be assumed that threads are executed in the order they are created. They may also execute at different speeds. When threads are executing (racing to complete) they may give unexpected results (race condition). Mutexes and joins must be utilized to achieve a predictable execution order and outcome. <br>\n",
        "Thread safe code: The threaded routines must call functions which are \"thread safe\". This means that there are no static or global variables which other threads may clobber or read assuming single threaded operation. If static or global variables are used then mutexes must be applied or the functions must be re-written to avoid the use of these variables. In C, local variables are dynamically allocated on the stack. Therefore, any function that does not use static data or other shared resources is thread-safe. Thread-unsafe functions may be used by only one thread at a time in a program and the uniqueness of the thread must be ensured. Many non-reentrant functions return a pointer to static data. This can be avoided by returning dynamically allocated data or using caller-provided storage. An example of a non-thread safe function is strtok which is also not re-entrant. The \"thread safe\" version is the re-entrant version strtok_r. <br>\n",
        "Mutex Deadlock: This condition occurs when a mutex is applied but then not \"unlocked\". This causes program execution to halt indefinitely. It can also be caused by poor application of mutexes or joins. Be careful when applying two or more mutexes to a section of code. If the first pthread_mutex_lock is applied and the second pthread_mutex_lock fails due to another thread applying a mutex, the first mutex may eventually lock all other threads from accessing data including the thread which holds the second mutex. The threads may wait indefinitely for the resource to become free causing a deadlock. It is best to test and if failure occurs, free the resources and stall before retrying."
      ],
      "metadata": {
        "id": "31voTteSml9-"
      }
    },
    {
      "cell_type": "code",
      "source": [
        "%%writefile test1.c\n",
        "...\n",
        "pthread_mutex_lock(&mutex_1);\n",
        "while ( pthread_mutex_trylock(&mutex_2) )  /* Test if already locked   */\n",
        "{\n",
        "   pthread_mutex_unlock(&mutex_1);  /* Free resource to avoid deadlock */\n",
        "   ...\n",
        "   /* stall here   */\n",
        "   ...\n",
        "   pthread_mutex_lock(&mutex_1);\n",
        "}\n",
        "count++;\n",
        "pthread_mutex_unlock(&mutex_1);\n",
        "pthread_mutex_unlock(&mutex_2);\n",
        "..."
      ],
      "metadata": {
        "id": "JQFKLayPn3ad"
      },
      "execution_count": null,
      "outputs": []
    },
    {
      "cell_type": "markdown",
      "source": [
        "The order of applying the mutex is also important. The following code segment illustrates a potential for deadlock:"
      ],
      "metadata": {
        "id": "wVTWM-4ko6so"
      }
    },
    {
      "cell_type": "code",
      "source": [
        "%%writefile test2.c\n",
        "void *function1()\n",
        "{\n",
        "   ...\n",
        "   pthread_mutex_lock(&lock1);           // Execution step 1\n",
        "   pthread_mutex_lock(&lock2);           // Execution step 3 DEADLOCK!!!\n",
        "   ...\n",
        "   ...\n",
        "   pthread_mutex_lock(&lock2);\n",
        "   pthread_mutex_lock(&lock1);\n",
        "   ...\n",
        "}\n",
        "\n",
        "void *function2()\n",
        "{\n",
        "   ...\n",
        "   pthread_mutex_lock(&lock2);           // Execution step 2\n",
        "   pthread_mutex_lock(&lock1);\n",
        "   ...\n",
        "   ...\n",
        "   pthread_mutex_lock(&lock1);\n",
        "   pthread_mutex_lock(&lock2);\n",
        "   ...\n",
        "}\n",
        "\n",
        "main()\n",
        "{\n",
        "   ...\n",
        "   pthread_create(&thread1, NULL, function1, NULL);\n",
        "   pthread_create(&thread2, NULL, function2, NULL);\n",
        "   ...\n",
        "}"
      ],
      "metadata": {
        "id": "oEYpSwCuo-xs"
      },
      "execution_count": null,
      "outputs": []
    },
    {
      "cell_type": "code",
      "source": [
        "%%writefile mutex1_mod.c\n",
        "#include <stdio.h>\n",
        "#include <stdlib.h>\n",
        "#include <pthread.h>\n",
        "#include <unistd.h> // header file for sleep()\n",
        "\n",
        "void *function1();\n",
        "void *function2();\n",
        "pthread_mutex_t lock1 = PTHREAD_MUTEX_INITIALIZER;\n",
        "pthread_mutex_t lock2 = PTHREAD_MUTEX_INITIALIZER;\n",
        "int  counter = 0;\n",
        "\n",
        "//main()\n",
        "int main() // modify by sabca\n",
        "{\n",
        "   int rc1, rc2;\n",
        "   pthread_t thread1, thread2;\n",
        "\n",
        "   /* Create independent threads each of which will execute functionC */\n",
        "\n",
        "   if( (rc1=pthread_create( &thread1, NULL, &function1, NULL)) )\n",
        "   {\n",
        "      printf(\"Thread creation failed: %d\\n\", rc1);\n",
        "   }\n",
        "\n",
        "   if( (rc2=pthread_create( &thread2, NULL, &function2, NULL)) )\n",
        "   {\n",
        "      printf(\"Thread creation failed: %d\\n\", rc2);\n",
        "   }\n",
        "\n",
        "   /* Wait till threads are complete before main continues. Unless we  */\n",
        "   /* wait we run the risk of executing an exit which will terminate   */\n",
        "   /* the process and all threads before the threads have completed.   */\n",
        "\n",
        "   pthread_join( thread1, NULL);\n",
        "   pthread_join( thread2, NULL);\n",
        "\n",
        "   exit(EXIT_SUCCESS);\n",
        "}\n",
        "\n",
        "void *function1()\n",
        "{\n",
        "   printf(\"In function 1.\");\n",
        "   pthread_mutex_lock( &lock1 );\n",
        "   printf(\"Thread 1 got first lock.\");\n",
        "   sleep(1);\n",
        "   pthread_mutex_lock( &lock2 );\n",
        "   printf(\"Thread 1 got second lock.\");\n",
        "   sleep(1);\n",
        "   counter++;\n",
        "   printf(\"Counter value function 1: %d\\n\",counter);\n",
        "   pthread_mutex_unlock( &lock2 );\n",
        "   pthread_mutex_unlock( &lock1 );\n",
        "\n",
        "   return NULL; //add by sabca\n",
        "}\n",
        "\n",
        "void *function2()\n",
        "{\n",
        "   printf(\"In function 2.\");\n",
        "   pthread_mutex_lock( &lock1 );\n",
        "   printf(\"Thread 2 got first lock.\");\n",
        "   sleep(1);\n",
        "   pthread_mutex_lock( &lock2 );\n",
        "   printf(\"Thread 2 got second lock.\");\n",
        "   sleep(1);\n",
        "   counter++;\n",
        "   printf(\"Counter value function 2: %d\\n\",counter);\n",
        "   pthread_mutex_unlock( &lock2 );\n",
        "   pthread_mutex_unlock( &lock1 );\n",
        "\n",
        "   return NULL; //add by sabca\n",
        "}"
      ],
      "metadata": {
        "colab": {
          "base_uri": "https://localhost:8080/"
        },
        "id": "c1NhQ3ZPhTdH",
        "outputId": "9f4969fd-dc68-4f82-efcb-98eb5759ec8b"
      },
      "execution_count": null,
      "outputs": [
        {
          "output_type": "stream",
          "name": "stdout",
          "text": [
            "Overwriting mutex1_mod.c\n"
          ]
        }
      ]
    },
    {
      "cell_type": "code",
      "source": [
        "!gcc -o mutex1_mod mutex1_mod.c -lpthread -Wall\n",
        "!./mutex1_mod"
      ],
      "metadata": {
        "colab": {
          "base_uri": "https://localhost:8080/"
        },
        "id": "fm0iODGPiW1x",
        "outputId": "8904c694-13d9-4136-90d2-54b19279c58a"
      },
      "execution_count": null,
      "outputs": [
        {
          "output_type": "stream",
          "name": "stdout",
          "text": [
            "In function 2.Thread 2 got first lock.In function 1.Thread 2 got second lock.Counter value function 2: 1\n",
            "Thread 1 got first lock.Thread 1 got second lock.Counter value function 1: 2\n"
          ]
        }
      ]
    },
    {
      "cell_type": "code",
      "source": [
        "%%writefile mutex1_mod_deadlock.c\n",
        "#include <stdio.h>\n",
        "#include <stdlib.h>\n",
        "#include <pthread.h>\n",
        "#include <unistd.h> // header file for sleep()\n",
        "\n",
        "void *function1();\n",
        "void *function2();\n",
        "pthread_mutex_t lock1 = PTHREAD_MUTEX_INITIALIZER;\n",
        "pthread_mutex_t lock2 = PTHREAD_MUTEX_INITIALIZER;\n",
        "int  counter = 0;\n",
        "\n",
        "//main()\n",
        "int main() // modify by sabca\n",
        "{\n",
        "   int rc1, rc2;\n",
        "   pthread_t thread1, thread2;\n",
        "\n",
        "   /* Create independent threads each of which will execute functionC */\n",
        "\n",
        "   if( (rc1=pthread_create( &thread1, NULL, &function1, NULL)) )\n",
        "   {\n",
        "      printf(\"Thread creation failed: %d\\n\", rc1);\n",
        "   }\n",
        "\n",
        "   if( (rc2=pthread_create( &thread2, NULL, &function2, NULL)) )\n",
        "   {\n",
        "      printf(\"Thread creation failed: %d\\n\", rc2);\n",
        "   }\n",
        "\n",
        "   /* Wait till threads are complete before main continues. Unless we  */\n",
        "   /* wait we run the risk of executing an exit which will terminate   */\n",
        "   /* the process and all threads before the threads have completed.   */\n",
        "\n",
        "   pthread_join( thread1, NULL);\n",
        "   pthread_join( thread2, NULL);\n",
        "\n",
        "   exit(EXIT_SUCCESS);\n",
        "}\n",
        "\n",
        "void *function1()\n",
        "{\n",
        "   printf(\"In function 1.\");\n",
        "   pthread_mutex_lock( &lock1 );\n",
        "   printf(\"Thread 1 got first lock.\");\n",
        "   sleep(1);\n",
        "   pthread_mutex_lock( &lock2 );\n",
        "   printf(\"Thread 1 got second lock.\");\n",
        "   sleep(1);\n",
        "   counter++;\n",
        "   printf(\"Counter value function 1: %d\\n\",counter);\n",
        "   pthread_mutex_unlock( &lock2 );\n",
        "   pthread_mutex_unlock( &lock1 );\n",
        "\n",
        "   return NULL; //add by sabca\n",
        "}\n",
        "\n",
        "void *function2()\n",
        "{\n",
        "   printf(\"In function 2.\");\n",
        "   pthread_mutex_lock( &lock2 ); // change the ordering\n",
        "   printf(\"Thread 2 got first lock.\");\n",
        "   sleep(1);\n",
        "   pthread_mutex_lock( &lock1 ); // change the ordering\n",
        "   printf(\"Thread 2 got second lock.\");\n",
        "   sleep(1);\n",
        "   counter++;\n",
        "   printf(\"Counter value function 2: %d\\n\",counter);\n",
        "   pthread_mutex_unlock( &lock1 );\n",
        "   pthread_mutex_unlock( &lock2 );\n",
        "\n",
        "   return NULL; //add by sabca\n",
        "}"
      ],
      "metadata": {
        "colab": {
          "base_uri": "https://localhost:8080/"
        },
        "id": "YfQzQXnwiopT",
        "outputId": "7f36e26e-5ef6-4276-f812-454d21c1dfac"
      },
      "execution_count": null,
      "outputs": [
        {
          "output_type": "stream",
          "name": "stdout",
          "text": [
            "Writing mutex1_mod_deadlock.c\n"
          ]
        }
      ]
    },
    {
      "cell_type": "code",
      "source": [
        "!gcc -o mutex1_mod_deadlock mutex1_mod_deadlock.c -lpthread -Wall\n",
        "!./mutex1_mod_deadlock"
      ],
      "metadata": {
        "colab": {
          "base_uri": "https://localhost:8080/"
        },
        "id": "oH37UYtVjKTn",
        "outputId": "c14b95a2-727e-4558-98b2-47a0bcb518f7"
      },
      "execution_count": null,
      "outputs": [
        {
          "output_type": "stream",
          "name": "stdout",
          "text": [
            "^C\n"
          ]
        }
      ]
    },
    {
      "cell_type": "code",
      "source": [
        "!diff -u mutex1_mod.c mutex1_mod_deadlock.c"
      ],
      "metadata": {
        "colab": {
          "base_uri": "https://localhost:8080/"
        },
        "id": "wVDvWB91npZv",
        "outputId": "07ea5396-c3f0-4faa-afe0-f343e3c1c1b4"
      },
      "execution_count": null,
      "outputs": [
        {
          "output_type": "stream",
          "name": "stdout",
          "text": [
            "--- mutex1_mod.c\t2024-06-04 07:30:42.591364580 +0000\n",
            "+++ mutex1_mod_deadlock.c\t2024-06-04 07:31:09.168269462 +0000\n",
            "@@ -57,16 +57,16 @@\n",
            " void *function2()\n",
            " {\n",
            "    printf(\"In function 2.\");\n",
            "-   pthread_mutex_lock( &lock1 );\n",
            "+   pthread_mutex_lock( &lock2 ); // change the ordering\n",
            "    printf(\"Thread 2 got first lock.\");\n",
            "    sleep(1);\n",
            "-   pthread_mutex_lock( &lock2 );\n",
            "+   pthread_mutex_lock( &lock1 ); // change the ordering\n",
            "    printf(\"Thread 2 got second lock.\");\n",
            "    sleep(1);\n",
            "    counter++;\n",
            "    printf(\"Counter value function 2: %d\\n\",counter);\n",
            "-   pthread_mutex_unlock( &lock2 );\n",
            "    pthread_mutex_unlock( &lock1 );\n",
            "+   pthread_mutex_unlock( &lock2 );\n",
            " \n",
            "    return NULL; //add by sabca\n",
            " }\n"
          ]
        }
      ]
    },
    {
      "cell_type": "markdown",
      "source": [
        "### Thread Debugging:"
      ],
      "metadata": {
        "id": "czeFvtPPm1Y8"
      }
    }
  ]
}